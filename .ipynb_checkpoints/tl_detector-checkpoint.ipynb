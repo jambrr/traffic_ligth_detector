{
 "cells": [
  {
   "cell_type": "code",
   "execution_count": 2,
   "id": "ee5b3f35-bd42-4900-af4e-54facd91479b",
   "metadata": {},
   "outputs": [],
   "source": [
    "import os\n",
    "import yaml\n",
    "from ultralytics import YOLO\n",
    "import random\n",
    "import os\n",
    "import shutil"
   ]
  },
  {
   "cell_type": "code",
   "execution_count": 14,
   "id": "22481200-57b4-4964-a1ee-a72211e2939f",
   "metadata": {},
   "outputs": [
    {
     "name": "stdout",
     "output_type": "stream",
     "text": [
      "Splitting completed successfully.\n"
     ]
    }
   ],
   "source": [
    "\n",
    "\n",
    "def split_images(image_directory, output_train, output_val, output_test):\n",
    "    \"\"\"\n",
    "    Split images into training, validation, and testing sets.\n",
    "    Args:\n",
    "        image_directory: Directory containing the images.\n",
    "        output_train: Directory to store the training set.\n",
    "        output_val: Directory to store the validation set.\n",
    "        output_test: Directory to store the testing set.\n",
    "    \"\"\"\n",
    "    # Create output directories\n",
    "    os.makedirs(output_train, exist_ok=True)\n",
    "    os.makedirs(output_val, exist_ok=True)\n",
    "    os.makedirs(output_test, exist_ok=True)\n",
    "\n",
    "    # Get a list of image filenames\n",
    "    image_filenames = [filename for filename in os.listdir(image_directory) if filename.endswith(('.jpg', '.jpeg', '.png'))]\n",
    "    \n",
    "    # Set the seed for reproducibility\n",
    "    random.seed(42)\n",
    "\n",
    "    # Shuffle the image filenames\n",
    "    random.shuffle(image_filenames)\n",
    "\n",
    "    # Calculate split indices\n",
    "    total_images = len(image_filenames)\n",
    "    train_split = int(0.6 * total_images)\n",
    "    val_split = int(0.8 * total_images)\n",
    "\n",
    "    # Assign images to splits\n",
    "    train_images = image_filenames[:train_split]\n",
    "    val_images = image_filenames[train_split:val_split]\n",
    "    test_images = image_filenames[val_split:]\n",
    "\n",
    "    # Copy images to the corresponding directories\n",
    "    for filename in train_images:\n",
    "        shutil.copy(os.path.join(image_directory, filename), os.path.join(output_train, filename))\n",
    "    \n",
    "    for filename in val_images:\n",
    "        shutil.copy(os.path.join(image_directory, filename), os.path.join(output_val, filename))\n",
    "    \n",
    "    for filename in test_images:\n",
    "        shutil.copy(os.path.join(image_directory, filename), os.path.join(output_test, filename))\n",
    "\n",
    "    print(\"Splitting completed successfully.\")\n",
    "\n",
    "# Example usage:\n",
    "image_directory_path = \"./dataset/sim_training_data/sim_data_capture\"\n",
    "output_train_path = \"./dataset/train/images\"\n",
    "output_val_path = \"./dataset/val/images\"\n",
    "output_test_path = \"./dataset/test/images\"\n",
    "split_images(image_directory_path, output_train_path, output_val_path, output_test_path)\n"
   ]
  },
  {
   "cell_type": "code",
   "execution_count": 8,
   "id": "54a633ee-1e12-4da3-886e-473f910dc619",
   "metadata": {},
   "outputs": [
    {
     "ename": "NameError",
     "evalue": "name 'xmin_normalized' is not defined",
     "output_type": "error",
     "traceback": [
      "\u001b[0;31m---------------------------------------------------------------------------\u001b[0m",
      "\u001b[0;31mNameError\u001b[0m                                 Traceback (most recent call last)",
      "Cell \u001b[0;32mIn[8], line 54\u001b[0m\n\u001b[1;32m     52\u001b[0m input_file_path \u001b[38;5;241m=\u001b[39m \u001b[38;5;124m\"\u001b[39m\u001b[38;5;124m./dataset/sim_data_annotations.yaml\u001b[39m\u001b[38;5;124m\"\u001b[39m\n\u001b[1;32m     53\u001b[0m output_directory_path \u001b[38;5;241m=\u001b[39m \u001b[38;5;124m\"\u001b[39m\u001b[38;5;124m./dataset/sim_training_data/labels\u001b[39m\u001b[38;5;124m\"\u001b[39m\n\u001b[0;32m---> 54\u001b[0m \u001b[43mconvert_annotations_to_txt\u001b[49m\u001b[43m(\u001b[49m\u001b[43minput_file_path\u001b[49m\u001b[43m,\u001b[49m\u001b[43m \u001b[49m\u001b[43moutput_directory_path\u001b[49m\u001b[43m)\u001b[49m\n",
      "Cell \u001b[0;32mIn[8], line 46\u001b[0m, in \u001b[0;36mconvert_annotations_to_txt\u001b[0;34m(input_file, output_directory)\u001b[0m\n\u001b[1;32m     43\u001b[0m         \u001b[38;5;66;03m# Normalize the values using the correct image dimensions (800x600)\u001b[39;00m\n\u001b[1;32m     44\u001b[0m         x_center_normalized, y_center_normalized, bbox_width_normalized, bbox_height_normalized \u001b[38;5;241m=\u001b[39m normalize_bbox(x1, y1, x2, y2, image_width\u001b[38;5;241m=\u001b[39m\u001b[38;5;241m800\u001b[39m, image_height\u001b[38;5;241m=\u001b[39m\u001b[38;5;241m600\u001b[39m)\n\u001b[0;32m---> 46\u001b[0m         file\u001b[38;5;241m.\u001b[39mwrite(\u001b[38;5;124mf\u001b[39m\u001b[38;5;124m\"\u001b[39m\u001b[38;5;132;01m{\u001b[39;00mclass_index\u001b[38;5;132;01m}\u001b[39;00m\u001b[38;5;124m \u001b[39m\u001b[38;5;132;01m{\u001b[39;00mxmin_normalized\u001b[38;5;132;01m}\u001b[39;00m\u001b[38;5;124m \u001b[39m\u001b[38;5;132;01m{\u001b[39;00mymin_normalized\u001b[38;5;132;01m}\u001b[39;00m\u001b[38;5;124m \u001b[39m\u001b[38;5;132;01m{\u001b[39;00mx_width_normalized\u001b[38;5;132;01m}\u001b[39;00m\u001b[38;5;124m \u001b[39m\u001b[38;5;132;01m{\u001b[39;00my_height_normalized\u001b[38;5;132;01m}\u001b[39;00m\u001b[38;5;130;01m\\n\u001b[39;00m\u001b[38;5;124m\"\u001b[39m)\n\u001b[1;32m     48\u001b[0m         \u001b[38;5;66;03m#file.write(f\"{class_index}\\t{annotation['x_width']}\\t{annotation['xmin']}\\t{annotation['y_height']}\\t{annotation['ymin']}\\n\")\u001b[39;00m\n\u001b[1;32m     50\u001b[0m \u001b[38;5;28mprint\u001b[39m(\u001b[38;5;124mf\u001b[39m\u001b[38;5;124m\"\u001b[39m\u001b[38;5;124mFile \u001b[39m\u001b[38;5;132;01m{\u001b[39;00mi\u001b[38;5;250m \u001b[39m\u001b[38;5;241m+\u001b[39m\u001b[38;5;250m \u001b[39m\u001b[38;5;241m1\u001b[39m\u001b[38;5;132;01m}\u001b[39;00m\u001b[38;5;124m: \u001b[39m\u001b[38;5;132;01m{\u001b[39;00mfilename\u001b[38;5;132;01m}\u001b[39;00m\u001b[38;5;124m created successfully.\u001b[39m\u001b[38;5;124m\"\u001b[39m)\n",
      "\u001b[0;31mNameError\u001b[0m: name 'xmin_normalized' is not defined"
     ]
    }
   ],
   "source": [
    "def normalize_bbox(x1, y1, x2, y2, image_width, image_height):\n",
    "    \"\"\"\n",
    "    Normalize bounding box coordinates.\n",
    "    Args:\n",
    "        x1, y1, x2, y2: Bounding box coordinates.\n",
    "        image_width, image_height: Dimensions of the image.\n",
    "\n",
    "    Returns:\n",
    "        Normalized bounding box coordinates (x_center_normalized, y_center_normalized, bbox_width_normalized, bbox_height_normalized).\n",
    "    \"\"\"\n",
    "    bbox_width = x2 - x1\n",
    "    bbox_height = y2 - y1\n",
    "    x_center = x1 + bbox_width / 2\n",
    "    y_center = y1 + bbox_height / 2\n",
    "\n",
    "    x_center_normalized = x_center / image_width\n",
    "    y_center_normalized = y_center / image_height\n",
    "    bbox_width_normalized = bbox_width / image_width\n",
    "    bbox_height_normalized = bbox_height / image_height\n",
    "\n",
    "    return x_center_normalized, y_center_normalized, bbox_width_normalized, bbox_height_normalized\n",
    "\n",
    "\n",
    "def convert_annotations_to_txt(input_file, output_directory):\n",
    "    class_index_mapping = {\"Green\": 0, \"Yellow\": 1, \"Red\": 2}\n",
    "    \n",
    "    with open(input_file, 'r') as f:\n",
    "        annotations_list = yaml.safe_load(f)\n",
    "\n",
    "    for i, image_annotation in enumerate(annotations_list):\n",
    "        filename = os.path.join(output_directory, f\"{image_annotation['filename'].split('/')[-1].split('.')[0]}.txt\")\n",
    "\n",
    "        with open(filename, \"w\") as file:\n",
    "            \n",
    "            for annotation in image_annotation['annotations']:\n",
    "                class_index = class_index_mapping.get(annotation['class'], -1)\n",
    "                \n",
    "                x1 = annotation['xmin']\n",
    "                y1 = annotation['ymin']\n",
    "                x2 = x1 + annotation['x_width']\n",
    "                y2 = y1 + annotation['y_height']\n",
    "\n",
    "                # Normalize the values using the correct image dimensions (800x600)\n",
    "                x_center_normalized, y_center_normalized, bbox_width_normalized, bbox_height_normalized = normalize_bbox(x1, y1, x2, y2, image_width=800, image_height=600)\n",
    "                \n",
    "                file.write(f\"{class_index} {x_center_normalized} {y_center_normalized} {bbox_width_normalized} {bbox_height_normalized}\\n\")\n",
    "\n",
    "                #file.write(f\"{class_index}\\t{annotation['x_width']}\\t{annotation['xmin']}\\t{annotation['y_height']}\\t{annotation['ymin']}\\n\")\n",
    "\n",
    "        print(f\"File {i + 1}: {filename} created successfully.\")\n",
    "\n",
    "input_file_path = \"./dataset/sim_data_annotations.yaml\"\n",
    "output_directory_path = \"./dataset/sim_training_data/labels\"\n",
    "convert_annotations_to_txt(input_file_path, output_directory_path)"
   ]
  },
  {
   "cell_type": "code",
   "execution_count": 18,
   "id": "90f76ccd-32e4-4f78-bb40-4e3785ce5a0f",
   "metadata": {},
   "outputs": [
    {
     "name": "stdout",
     "output_type": "stream",
     "text": [
      "Label file for left0435.jpg copied successfully.\n",
      "Label file for left0529.jpg copied successfully.\n",
      "Label file for left0623.jpg copied successfully.\n",
      "Label file for left0014.jpg copied successfully.\n",
      "Label file for left0575.jpg copied successfully.\n",
      "Label file for left0413.jpg copied successfully.\n",
      "Label file for left0550.jpg copied successfully.\n",
      "Label file for left0609.jpg copied successfully.\n",
      "Label file for left0625.jpg copied successfully.\n",
      "Label file for left0617.jpg copied successfully.\n",
      "Label file for left0469.jpg copied successfully.\n",
      "Label file for left0507.jpg copied successfully.\n",
      "Label file for left0015.jpg copied successfully.\n",
      "Label file for left0584.jpg copied successfully.\n",
      "Label file for left0602.jpg copied successfully.\n",
      "Label file for left0509.jpg copied successfully.\n",
      "Label file for left0481.jpg copied successfully.\n",
      "Label file for left0503.jpg copied successfully.\n",
      "Label file for left0044.jpg copied successfully.\n",
      "Label file for left0024.jpg copied successfully.\n",
      "Label file for left0558.jpg copied successfully.\n",
      "Label file for left0499.jpg copied successfully.\n",
      "Label file for left0057.jpg copied successfully.\n",
      "Label file for left0434.jpg copied successfully.\n",
      "Label file for left0023.jpg copied successfully.\n",
      "Label file for left0596.jpg copied successfully.\n",
      "Label file for left0547.jpg copied successfully.\n",
      "Label file for left0555.jpg copied successfully.\n",
      "Label file for left0479.jpg copied successfully.\n",
      "Label file for left0017.jpg copied successfully.\n",
      "Label file for left0973.jpg copied successfully.\n",
      "Label file for left0508.jpg copied successfully.\n",
      "Label file for left0544.jpg copied successfully.\n",
      "Label file for left0510.jpg copied successfully.\n",
      "Label file for left0502.jpg copied successfully.\n",
      "Label file for left0494.jpg copied successfully.\n",
      "Label file for left0431.jpg copied successfully.\n",
      "Label file for left0056.jpg copied successfully.\n",
      "Label file for left0003.jpg copied successfully.\n",
      "Label file for left0042.jpg copied successfully.\n",
      "Label file for left0970.jpg copied successfully.\n",
      "Label file for left0018.jpg copied successfully.\n",
      "Label file for left0576.jpg copied successfully.\n",
      "Label file for left0605.jpg copied successfully.\n",
      "Label file for left0058.jpg copied successfully.\n",
      "Label file for left0498.jpg copied successfully.\n",
      "Label file for left0616.jpg copied successfully.\n",
      "Label file for left0488.jpg copied successfully.\n",
      "Label file for left0049.jpg copied successfully.\n",
      "Label file for left0612.jpg copied successfully.\n",
      "Label file for left0480.jpg copied successfully.\n",
      "Label file for left0581.jpg copied successfully.\n",
      "Label file for left0495.jpg copied successfully.\n",
      "Label file for left0428.jpg copied successfully.\n",
      "Label file for left0436.jpg copied successfully.\n",
      "Label file for left0050.jpg copied successfully.\n",
      "Label file for left0475.jpg copied successfully.\n",
      "Label file for left0047.jpg copied successfully.\n",
      "Label file for left0030.jpg copied successfully.\n",
      "Label file for left0456.jpg copied successfully.\n",
      "Label file for left0052.jpg copied successfully.\n",
      "Label file for left0972.jpg copied successfully.\n",
      "Label file for left0437.jpg copied successfully.\n",
      "Label file for left0433.jpg copied successfully.\n",
      "Label file for left0011.jpg copied successfully.\n",
      "Label file for left0542.jpg copied successfully.\n",
      "Label file for left0028.jpg copied successfully.\n",
      "Label file for left0521.jpg copied successfully.\n",
      "Label file for left0599.jpg copied successfully.\n",
      "Label file for left0582.jpg copied successfully.\n",
      "Label file for left0533.jpg copied successfully.\n",
      "Label file for left0025.jpg copied successfully.\n",
      "Label file for left0988.jpg copied successfully.\n",
      "Label file for left0538.jpg copied successfully.\n",
      "Label file for left0048.jpg copied successfully.\n",
      "Label file for left0487.jpg copied successfully.\n",
      "Label file for left0045.jpg copied successfully.\n",
      "Label file for left0619.jpg copied successfully.\n",
      "Label file for left0524.jpg copied successfully.\n",
      "Label file for left0457.jpg copied successfully.\n",
      "Label file for left0539.jpg copied successfully.\n",
      "Label file for left0600.jpg copied successfully.\n",
      "Label file for left0543.jpg copied successfully.\n",
      "Label file for left0505.jpg copied successfully.\n",
      "Label file for left0520.jpg copied successfully.\n",
      "Label file for left0606.jpg copied successfully.\n",
      "Label file for left0422.jpg copied successfully.\n",
      "Label file for left0570.jpg copied successfully.\n",
      "Label file for left0601.jpg copied successfully.\n",
      "Label file for left0591.jpg copied successfully.\n",
      "Label file for left0607.jpg copied successfully.\n",
      "Label file for left0585.jpg copied successfully.\n",
      "Label file for left0611.jpg copied successfully.\n",
      "Label file for left0029.jpg copied successfully.\n",
      "Label file for left0535.jpg copied successfully.\n",
      "Label file for left0429.jpg copied successfully.\n",
      "Label file for left0452.jpg copied successfully.\n",
      "Label file for left0427.jpg copied successfully.\n",
      "Label file for left0971.jpg copied successfully.\n",
      "Label file for left0586.jpg copied successfully.\n",
      "Label file for left0604.jpg copied successfully.\n",
      "Label file for left0526.jpg copied successfully.\n",
      "Label file for left0462.jpg copied successfully.\n",
      "Label file for left0500.jpg copied successfully.\n",
      "Label file for left1100.jpg copied successfully.\n",
      "Label file for left0522.jpg copied successfully.\n",
      "Label file for left0483.jpg copied successfully.\n",
      "Label file for left0041.jpg copied successfully.\n",
      "Label file for left0613.jpg copied successfully.\n",
      "Label file for left0579.jpg copied successfully.\n",
      "Label file for left0530.jpg copied successfully.\n",
      "Label file for left0455.jpg copied successfully.\n",
      "Label file for left0417.jpg copied successfully.\n",
      "Label file for left0460.jpg copied successfully.\n",
      "Label file for left0440.jpg copied successfully.\n",
      "Label file for left0441.jpg copied successfully.\n",
      "Label file for left0468.jpg copied successfully.\n",
      "Label file for left0511.jpg copied successfully.\n",
      "Label file for left0580.jpg copied successfully.\n",
      "Label file for left0458.jpg copied successfully.\n",
      "Label file for left0016.jpg copied successfully.\n",
      "Label file for left0414.jpg copied successfully.\n",
      "Label file for left0571.jpg copied successfully.\n",
      "Label file for left0531.jpg copied successfully.\n",
      "Label file for left0587.jpg copied successfully.\n",
      "Label file for left0043.jpg copied successfully.\n",
      "Label file for left0583.jpg copied successfully.\n",
      "Label file for left0562.jpg copied successfully.\n",
      "Label file for left0527.jpg copied successfully.\n",
      "Label file for left0020.jpg copied successfully.\n",
      "Label file for left0621.jpg copied successfully.\n",
      "Label file for left0983.jpg copied successfully.\n",
      "Label file for left0051.jpg copied successfully.\n",
      "Label file for left0559.jpg copied successfully.\n",
      "Label file for left0485.jpg copied successfully.\n",
      "Label file for left0519.jpg copied successfully.\n",
      "Label file for left0561.jpg copied successfully.\n",
      "Label file for left0466.jpg copied successfully.\n",
      "Label file for left0022.jpg copied successfully.\n",
      "Label file for left0504.jpg copied successfully.\n",
      "Label file for left0490.jpg copied successfully.\n",
      "Label file for left0518.jpg copied successfully.\n",
      "Label file for left0546.jpg copied successfully.\n",
      "Label file for left0465.jpg copied successfully.\n",
      "Label file for left0438.jpg copied successfully.\n",
      "Label file for left0472.jpg copied successfully.\n",
      "Label file for left0620.jpg copied successfully.\n",
      "Label file for left0021.jpg copied successfully.\n",
      "Label file for left0593.jpg copied successfully.\n",
      "Label file for left0534.jpg copied successfully.\n",
      "Label file for left0540.jpg copied successfully.\n",
      "Label file for left0459.jpg copied successfully.\n",
      "Label file for left0589.jpg copied successfully.\n",
      "Label file for left0553.jpg copied successfully.\n",
      "Label file for left0013.jpg copied successfully.\n",
      "Label file for left0549.jpg copied successfully.\n",
      "Label file for left0034.jpg copied successfully.\n",
      "Label file for left0937.jpg copied successfully.\n",
      "Label file for left1112.jpg copied successfully.\n",
      "Label file for left0991.jpg copied successfully.\n",
      "Label file for left0515.jpg copied successfully.\n",
      "Label file for left0420.jpg copied successfully.\n",
      "Label file for left0506.jpg copied successfully.\n",
      "Label file for left0554.jpg copied successfully.\n",
      "Label file for left0608.jpg copied successfully.\n",
      "Label file for left0594.jpg copied successfully.\n",
      "Label file for left0567.jpg copied successfully.\n",
      "Label file for left0590.jpg copied successfully.\n",
      "Label file for left0027.jpg copied successfully.\n",
      "Label file for left0626.jpg copied successfully.\n",
      "Label file for left0476.jpg copied successfully.\n",
      "Label file for left0471.jpg copied successfully.\n",
      "Label file for left0513.jpg copied successfully.\n",
      "Label file for left0568.jpg copied successfully.\n",
      "Label file for left0489.jpg copied successfully.\n",
      "Label file for left0423.jpg copied successfully.\n",
      "Label file for left0556.jpg copied successfully.\n",
      "Label file for left0514.jpg copied successfully.\n",
      "Label file for left0598.jpg copied successfully.\n",
      "Label file for left0984.jpg copied successfully.\n",
      "Label file for left0987.jpg copied successfully.\n",
      "Label file for left0046.jpg copied successfully.\n",
      "Label file for left0470.jpg copied successfully.\n",
      "Label file for left0019.jpg copied successfully.\n",
      "Label file for left0464.jpg copied successfully.\n",
      "Label file for left0577.jpg copied successfully.\n",
      "Label file for left0572.jpg copied successfully.\n",
      "Label file for left0474.jpg copied successfully.\n",
      "Label file for left0532.jpg copied successfully.\n",
      "Label file for left0477.jpg copied successfully.\n",
      "Label file for left0449.jpg copied successfully.\n",
      "Label file for left0545.jpg copied successfully.\n",
      "Label file for left0537.jpg copied successfully.\n",
      "Label file for left0517.jpg copied successfully.\n",
      "Label file for left0610.jpg copied successfully.\n",
      "Label file for left0560.jpg copied successfully.\n",
      "Label file for left0059.jpg copied successfully.\n",
      "Label file for left0592.jpg copied successfully.\n",
      "Label file for left0478.jpg copied successfully.\n",
      "Label file for left0493.jpg copied successfully.\n",
      "Label file for left0573.jpg copied successfully.\n",
      "Label file for left0416.jpg copied successfully.\n",
      "Label file for left0525.jpg copied successfully.\n",
      "Label file for left0448.jpg copied successfully.\n",
      "Label file for left0516.jpg copied successfully.\n",
      "Label file for left0491.jpg copied successfully.\n",
      "Label file for left0418.jpg copied successfully.\n",
      "Label file for left0463.jpg copied successfully.\n",
      "Label file for left0461.jpg copied successfully.\n",
      "Label file for left0821.jpg copied successfully.\n",
      "Label file for left0536.jpg copied successfully.\n",
      "Label file for left0497.jpg copied successfully.\n",
      "Label file for left0565.jpg copied successfully.\n",
      "Label file for left0622.jpg copied successfully.\n",
      "Label file for left0578.jpg copied successfully.\n",
      "Label file for left0969.jpg copied successfully.\n",
      "Label file for left0038.jpg copied successfully.\n",
      "Label file for left0557.jpg copied successfully.\n",
      "Label file for left0484.jpg copied successfully.\n",
      "Label file for left0419.jpg copied successfully.\n",
      "Label file for left0439.jpg copied successfully.\n",
      "Label file for left0574.jpg copied successfully.\n",
      "Label file for left0454.jpg copied successfully.\n",
      "Label file for left0552.jpg copied successfully.\n",
      "Label file for left0039.jpg copied successfully.\n",
      "Label file for left0031.jpg copied successfully.\n",
      "Label file for left0445.jpg copied successfully.\n",
      "Label file for left0430.jpg copied successfully.\n",
      "Label file for left0541.jpg copied successfully.\n",
      "Label file for left0528.jpg copied successfully.\n",
      "Label file for left0496.jpg copied successfully.\n",
      "Label file for left0486.jpg copied successfully.\n",
      "Label file for left0055.jpg copied successfully.\n",
      "Label file for left0446.jpg copied successfully.\n",
      "Label file for left0426.jpg copied successfully.\n",
      "Label file for left0012.jpg copied successfully.\n",
      "Label file for left0564.jpg copied successfully.\n",
      "Label file for left0548.jpg copied successfully.\n",
      "Label file for left0615.jpg copied successfully.\n",
      "Label file for left0037.jpg copied successfully.\n",
      "Label file for left0447.jpg copied successfully.\n",
      "Label file for left0595.jpg copied successfully.\n",
      "Label file for left0054.jpg copied successfully.\n",
      "Label file for left0624.jpg copied successfully.\n",
      "Label file for left0501.jpg copied successfully.\n",
      "Label file for left0035.jpg copied successfully.\n",
      "Label file for left0453.jpg copied successfully.\n",
      "Label file for left0597.jpg copied successfully.\n",
      "Label file for left0415.jpg copied successfully.\n",
      "Label file for left0588.jpg copied successfully.\n",
      "Label file for left0551.jpg copied successfully.\n",
      "Label file for left0432.jpg copied successfully.\n",
      "Label file for left0026.jpg copied successfully.\n",
      "Label file for left0569.jpg copied successfully.\n",
      "Label file for left0603.jpg copied successfully.\n",
      "Label file for left0563.jpg copied successfully.\n",
      "Label file for left0467.jpg copied successfully.\n",
      "Label file for left0425.jpg copied successfully.\n",
      "Label file for left0421.jpg copied successfully.\n",
      "Label file for left0618.jpg copied successfully.\n",
      "Label file for left0053.jpg copied successfully.\n",
      "Label file for left0492.jpg copied successfully.\n",
      "Label file for left0411.jpg copied successfully.\n",
      "Label file for left0412.jpg copied successfully.\n",
      "Label file for left0033.jpg copied successfully.\n",
      "Label file for left0614.jpg copied successfully.\n",
      "Label file for left0036.jpg copied successfully.\n",
      "Label file for left0032.jpg copied successfully.\n",
      "Label file for left0566.jpg copied successfully.\n",
      "Label file for left0451.jpg copied successfully.\n",
      "Label file for left0512.jpg copied successfully.\n",
      "Label file for left0523.jpg copied successfully.\n",
      "Label file for left0450.jpg copied successfully.\n",
      "Label file for left0482.jpg copied successfully.\n",
      "Label file for left0040.jpg copied successfully.\n",
      "Label file for left0473.jpg copied successfully.\n",
      "Label file for left0424.jpg copied successfully.\n"
     ]
    }
   ],
   "source": [
    "def copy_labels(image_directory, label_directory, output_directory, label_extension='.txt'):\n",
    "    \"\"\"\n",
    "    Copy label files to another directory using the image file names.\n",
    "    Args:\n",
    "        image_directory: Directory containing the images.\n",
    "        label_directory: Directory containing the label files.\n",
    "        output_directory: Directory to store the copied label files.\n",
    "        label_extension: Extension of the label files (default is '.txt').\n",
    "    \"\"\"\n",
    "    os.makedirs(output_directory, exist_ok=True)\n",
    "\n",
    "    image_filenames = [filename for filename in os.listdir(image_directory) if filename.endswith(('.jpg', '.jpeg', '.png'))]\n",
    "\n",
    "    for image_filename in image_filenames:\n",
    "        label_filename = os.path.splitext(image_filename)[0] + label_extension\n",
    "        source_label_path = os.path.join(label_directory, label_filename)\n",
    "        destination_label_path = os.path.join(output_directory, label_filename)\n",
    "\n",
    "        if os.path.exists(source_label_path):\n",
    "            shutil.copy(source_label_path, destination_label_path)\n",
    "            print(f\"Label file for {image_filename} copied successfully.\")\n",
    "\n",
    "# Example usage:\n",
    "train_image_directory_path = \"./dataset/train/images\"\n",
    "val_image_directory_path = \"./dataset/val/images\"\n",
    "test_image_directory_path = \"./dataset/test/images\"\n",
    "\n",
    "label_directory_path = \"./dataset/sim_training_data/labels\"\n",
    "\n",
    "output_train_path = \"./dataset/train/labels\"\n",
    "output_val_path = \"./dataset/val/labels\"\n",
    "\n",
    "copy_labels(train_image_directory_path, label_directory_path, output_train_path)\n",
    "copy_labels(val_image_directory_path, label_directory_path, output_val_path)\n"
   ]
  },
  {
   "cell_type": "code",
   "execution_count": 7,
   "id": "bc4a337c-d150-4900-8f08-35b5d818d9c1",
   "metadata": {},
   "outputs": [
    {
     "name": "stdout",
     "output_type": "stream",
     "text": [
      "New https://pypi.org/project/ultralytics/8.1.6 available 😃 Update with 'pip install -U ultralytics'\n",
      "Ultralytics YOLOv8.0.230 🚀 Python-3.8.6 torch-2.1.2+cu121 CUDA:0 (Tesla V100-SXM2-32GB, 32501MiB)\n",
      "\u001b[34m\u001b[1mengine/trainer: \u001b[0mtask=detect, mode=train, model=yolov8s.pt, data=./data.yaml, epochs=25, time=None, patience=50, batch=16, imgsz=640, save=True, save_period=-1, cache=False, device=None, workers=8, project=None, name=train6, exist_ok=False, pretrained=True, optimizer=AdamW, verbose=True, seed=0, deterministic=True, single_cls=False, rect=False, cos_lr=False, close_mosaic=10, resume=False, amp=True, fraction=1.0, profile=False, freeze=None, overlap_mask=True, mask_ratio=4, dropout=0.0, val=True, split=val, save_json=False, save_hybrid=False, conf=None, iou=0.5, max_det=300, half=False, dnn=False, plots=True, source=None, vid_stride=1, stream_buffer=False, visualize=False, augment=False, agnostic_nms=False, classes=None, retina_masks=False, embed=None, show=False, save_frames=False, save_txt=False, save_conf=False, save_crop=False, show_labels=True, show_conf=True, show_boxes=True, line_width=None, format=torchscript, keras=False, optimize=False, int8=False, dynamic=False, simplify=False, opset=None, workspace=4, nms=False, lr0=0.005, lrf=0.01, momentum=0.937, weight_decay=0.0005, warmup_epochs=3.0, warmup_momentum=0.8, warmup_bias_lr=0.1, box=7.5, cls=0.5, dfl=1.5, pose=12.0, kobj=1.0, label_smoothing=0.0, nbs=64, hsv_h=0.015, hsv_s=0.7, hsv_v=0.4, degrees=0.0, translate=0.1, scale=0.5, shear=0.0, perspective=0.0, flipud=0.0, fliplr=0.5, mosaic=1.0, mixup=0.0, copy_paste=0.0, cfg=None, tracker=botsort.yaml, save_dir=runs/detect/train6\n",
      "Overriding model.yaml nc=80 with nc=3\n",
      "\n",
      "                   from  n    params  module                                       arguments                     \n",
      "  0                  -1  1       928  ultralytics.nn.modules.conv.Conv             [3, 32, 3, 2]                 \n",
      "  1                  -1  1     18560  ultralytics.nn.modules.conv.Conv             [32, 64, 3, 2]                \n",
      "  2                  -1  1     29056  ultralytics.nn.modules.block.C2f             [64, 64, 1, True]             \n",
      "  3                  -1  1     73984  ultralytics.nn.modules.conv.Conv             [64, 128, 3, 2]               \n",
      "  4                  -1  2    197632  ultralytics.nn.modules.block.C2f             [128, 128, 2, True]           \n",
      "  5                  -1  1    295424  ultralytics.nn.modules.conv.Conv             [128, 256, 3, 2]              \n",
      "  6                  -1  2    788480  ultralytics.nn.modules.block.C2f             [256, 256, 2, True]           \n",
      "  7                  -1  1   1180672  ultralytics.nn.modules.conv.Conv             [256, 512, 3, 2]              \n",
      "  8                  -1  1   1838080  ultralytics.nn.modules.block.C2f             [512, 512, 1, True]           \n",
      "  9                  -1  1    656896  ultralytics.nn.modules.block.SPPF            [512, 512, 5]                 \n",
      " 10                  -1  1         0  torch.nn.modules.upsampling.Upsample         [None, 2, 'nearest']          \n",
      " 11             [-1, 6]  1         0  ultralytics.nn.modules.conv.Concat           [1]                           \n",
      " 12                  -1  1    591360  ultralytics.nn.modules.block.C2f             [768, 256, 1]                 \n",
      " 13                  -1  1         0  torch.nn.modules.upsampling.Upsample         [None, 2, 'nearest']          \n",
      " 14             [-1, 4]  1         0  ultralytics.nn.modules.conv.Concat           [1]                           \n",
      " 15                  -1  1    148224  ultralytics.nn.modules.block.C2f             [384, 128, 1]                 \n",
      " 16                  -1  1    147712  ultralytics.nn.modules.conv.Conv             [128, 128, 3, 2]              \n",
      " 17            [-1, 12]  1         0  ultralytics.nn.modules.conv.Concat           [1]                           \n",
      " 18                  -1  1    493056  ultralytics.nn.modules.block.C2f             [384, 256, 1]                 \n",
      " 19                  -1  1    590336  ultralytics.nn.modules.conv.Conv             [256, 256, 3, 2]              \n",
      " 20             [-1, 9]  1         0  ultralytics.nn.modules.conv.Concat           [1]                           \n",
      " 21                  -1  1   1969152  ultralytics.nn.modules.block.C2f             [768, 512, 1]                 \n",
      " 22        [15, 18, 21]  1   2117209  ultralytics.nn.modules.head.Detect           [3, [128, 256, 512]]          \n",
      "Model summary: 225 layers, 11136761 parameters, 11136745 gradients, 28.7 GFLOPs\n",
      "\n",
      "Transferred 349/355 items from pretrained weights\n",
      "\u001b[34m\u001b[1mTensorBoard: \u001b[0mStart with 'tensorboard --logdir runs/detect/train6', view at http://localhost:6006/\n",
      "Freezing layer 'model.22.dfl.conv.weight'\n",
      "\u001b[34m\u001b[1mAMP: \u001b[0mrunning Automatic Mixed Precision (AMP) checks with YOLOv8n...\n",
      "\u001b[34m\u001b[1mAMP: \u001b[0mchecks passed ✅\n"
     ]
    },
    {
     "name": "stderr",
     "output_type": "stream",
     "text": [
      "\u001b[34m\u001b[1mtrain: \u001b[0mScanning /mnt/irisgpfs/users/lweber/traffic_ligth_detector/dataset/train/labels.cache... 165 images, 25 backgrounds, 0 corrupt: 100%|██████████| 168/168 [00:00<?, ?it/s]\n",
      "/mnt/irisgpfs/users/lweber/jupyter_env/lib/python3.8/site-packages/torch/utils/data/dataloader.py:557: UserWarning: This DataLoader will create 8 worker processes in total. Our suggested max number of worker in current system is 7, which is smaller than what this DataLoader is going to create. Please be aware that excessive worker creation might get DataLoader running slow or even freeze, lower the worker number to avoid potential slowness/freeze if necessary.\n",
      "  warnings.warn(_create_warning_msg(\n",
      "\u001b[34m\u001b[1mval: \u001b[0mScanning /mnt/irisgpfs/users/lweber/traffic_ligth_detector/dataset/val/labels.cache... 56 images, 7 backgrounds, 0 corrupt: 100%|██████████| 56/56 [00:00<?, ?it/s]\n",
      "/mnt/irisgpfs/users/lweber/jupyter_env/lib/python3.8/site-packages/torch/utils/data/dataloader.py:557: UserWarning: This DataLoader will create 14 worker processes in total. Our suggested max number of worker in current system is 7, which is smaller than what this DataLoader is going to create. Please be aware that excessive worker creation might get DataLoader running slow or even freeze, lower the worker number to avoid potential slowness/freeze if necessary.\n",
      "  warnings.warn(_create_warning_msg(\n"
     ]
    },
    {
     "name": "stdout",
     "output_type": "stream",
     "text": [
      "Plotting labels to runs/detect/train6/labels.jpg... \n",
      "\u001b[34m\u001b[1moptimizer:\u001b[0m AdamW(lr=0.005, momentum=0.937) with parameter groups 57 weight(decay=0.0), 64 weight(decay=0.0005), 63 bias(decay=0.0)\n",
      "25 epochs...\n",
      "\n",
      "      Epoch    GPU_mem   box_loss   cls_loss   dfl_loss  Instances       Size\n"
     ]
    },
    {
     "name": "stderr",
     "output_type": "stream",
     "text": [
      "       1/25      4.43G      4.007      9.782      2.975         26        640: 100%|██████████| 11/11 [00:01<00:00,  7.20it/s]\n",
      "                 Class     Images  Instances      Box(P          R      mAP50  mAP50-95): 100%|██████████| 2/2 [00:00<00:00,  3.08it/s]"
     ]
    },
    {
     "name": "stdout",
     "output_type": "stream",
     "text": [
      "                   all         56        141    0.00672      0.039    0.00217   0.000387\n"
     ]
    },
    {
     "name": "stderr",
     "output_type": "stream",
     "text": [
      "\n"
     ]
    },
    {
     "name": "stdout",
     "output_type": "stream",
     "text": [
      "\n",
      "      Epoch    GPU_mem   box_loss   cls_loss   dfl_loss  Instances       Size\n"
     ]
    },
    {
     "name": "stderr",
     "output_type": "stream",
     "text": [
      "       2/25      4.85G      1.749      3.215      1.441         45        640: 100%|██████████| 11/11 [00:01<00:00,  8.54it/s]\n",
      "                 Class     Images  Instances      Box(P          R      mAP50  mAP50-95): 100%|██████████| 2/2 [00:00<00:00,  3.45it/s]"
     ]
    },
    {
     "name": "stdout",
     "output_type": "stream",
     "text": [
      "                   all         56        141     0.0174      0.149     0.0136    0.00392\n"
     ]
    },
    {
     "name": "stderr",
     "output_type": "stream",
     "text": [
      "\n"
     ]
    },
    {
     "name": "stdout",
     "output_type": "stream",
     "text": [
      "\n",
      "      Epoch    GPU_mem   box_loss   cls_loss   dfl_loss  Instances       Size\n"
     ]
    },
    {
     "name": "stderr",
     "output_type": "stream",
     "text": [
      "       3/25      4.65G      1.665      2.478      1.295         29        640: 100%|██████████| 11/11 [00:01<00:00,  8.69it/s]\n",
      "                 Class     Images  Instances      Box(P          R      mAP50  mAP50-95): 100%|██████████| 2/2 [00:00<00:00,  3.83it/s]"
     ]
    },
    {
     "name": "stdout",
     "output_type": "stream",
     "text": [
      "                   all         56        141       0.34      0.103    0.00661    0.00156\n"
     ]
    },
    {
     "name": "stderr",
     "output_type": "stream",
     "text": [
      "\n"
     ]
    },
    {
     "name": "stdout",
     "output_type": "stream",
     "text": [
      "\n",
      "      Epoch    GPU_mem   box_loss   cls_loss   dfl_loss  Instances       Size\n"
     ]
    },
    {
     "name": "stderr",
     "output_type": "stream",
     "text": [
      "       4/25      4.61G      1.667      2.324      1.428         42        640: 100%|██████████| 11/11 [00:01<00:00,  9.19it/s]\n",
      "                 Class     Images  Instances      Box(P          R      mAP50  mAP50-95): 100%|██████████| 2/2 [00:00<00:00,  3.22it/s]"
     ]
    },
    {
     "name": "stdout",
     "output_type": "stream",
     "text": [
      "                   all         56        141      0.369     0.0745     0.0428      0.017\n"
     ]
    },
    {
     "name": "stderr",
     "output_type": "stream",
     "text": [
      "\n"
     ]
    },
    {
     "name": "stdout",
     "output_type": "stream",
     "text": [
      "\n",
      "      Epoch    GPU_mem   box_loss   cls_loss   dfl_loss  Instances       Size\n"
     ]
    },
    {
     "name": "stderr",
     "output_type": "stream",
     "text": [
      "       5/25      4.61G      1.431       2.09      1.293         34        640: 100%|██████████| 11/11 [00:01<00:00,  8.77it/s]\n",
      "                 Class     Images  Instances      Box(P          R      mAP50  mAP50-95): 100%|██████████| 2/2 [00:00<00:00,  3.18it/s]"
     ]
    },
    {
     "name": "stdout",
     "output_type": "stream",
     "text": [
      "                   all         56        141      0.155      0.383      0.179     0.0818\n"
     ]
    },
    {
     "name": "stderr",
     "output_type": "stream",
     "text": [
      "\n"
     ]
    },
    {
     "name": "stdout",
     "output_type": "stream",
     "text": [
      "\n",
      "      Epoch    GPU_mem   box_loss   cls_loss   dfl_loss  Instances       Size\n"
     ]
    },
    {
     "name": "stderr",
     "output_type": "stream",
     "text": [
      "       6/25      4.63G      1.469       1.97      1.305         34        640: 100%|██████████| 11/11 [00:01<00:00,  9.32it/s]\n",
      "                 Class     Images  Instances      Box(P          R      mAP50  mAP50-95): 100%|██████████| 2/2 [00:00<00:00,  2.31it/s]"
     ]
    },
    {
     "name": "stdout",
     "output_type": "stream",
     "text": [
      "                   all         56        141      0.108      0.828      0.218     0.0905\n"
     ]
    },
    {
     "name": "stderr",
     "output_type": "stream",
     "text": [
      "\n"
     ]
    },
    {
     "name": "stdout",
     "output_type": "stream",
     "text": [
      "\n",
      "      Epoch    GPU_mem   box_loss   cls_loss   dfl_loss  Instances       Size\n"
     ]
    },
    {
     "name": "stderr",
     "output_type": "stream",
     "text": [
      "       7/25       4.6G      1.411      1.855      1.289         34        640: 100%|██████████| 11/11 [00:01<00:00,  9.46it/s]\n",
      "                 Class     Images  Instances      Box(P          R      mAP50  mAP50-95): 100%|██████████| 2/2 [00:00<00:00,  4.32it/s]"
     ]
    },
    {
     "name": "stdout",
     "output_type": "stream",
     "text": [
      "                   all         56        141      0.143      0.166      0.084     0.0365\n"
     ]
    },
    {
     "name": "stderr",
     "output_type": "stream",
     "text": [
      "\n"
     ]
    },
    {
     "name": "stdout",
     "output_type": "stream",
     "text": [
      "\n",
      "      Epoch    GPU_mem   box_loss   cls_loss   dfl_loss  Instances       Size\n"
     ]
    },
    {
     "name": "stderr",
     "output_type": "stream",
     "text": [
      "       8/25      4.63G      1.491      1.903      1.375         35        640: 100%|██████████| 11/11 [00:01<00:00,  9.34it/s]\n",
      "                 Class     Images  Instances      Box(P          R      mAP50  mAP50-95): 100%|██████████| 2/2 [00:00<00:00,  4.28it/s]"
     ]
    },
    {
     "name": "stdout",
     "output_type": "stream",
     "text": [
      "                   all         56        141      0.374     0.0638     0.0118    0.00661\n"
     ]
    },
    {
     "name": "stderr",
     "output_type": "stream",
     "text": [
      "\n"
     ]
    },
    {
     "name": "stdout",
     "output_type": "stream",
     "text": [
      "\n",
      "      Epoch    GPU_mem   box_loss   cls_loss   dfl_loss  Instances       Size\n"
     ]
    },
    {
     "name": "stderr",
     "output_type": "stream",
     "text": [
      "       9/25       4.6G      1.308      1.659       1.22         38        640: 100%|██████████| 11/11 [00:01<00:00,  9.50it/s]\n",
      "                 Class     Images  Instances      Box(P          R      mAP50  mAP50-95): 100%|██████████| 2/2 [00:00<00:00,  3.64it/s]"
     ]
    },
    {
     "name": "stdout",
     "output_type": "stream",
     "text": [
      "                   all         56        141      0.385     0.0603     0.0155    0.00718\n"
     ]
    },
    {
     "name": "stderr",
     "output_type": "stream",
     "text": [
      "\n"
     ]
    },
    {
     "name": "stdout",
     "output_type": "stream",
     "text": [
      "\n",
      "      Epoch    GPU_mem   box_loss   cls_loss   dfl_loss  Instances       Size\n"
     ]
    },
    {
     "name": "stderr",
     "output_type": "stream",
     "text": [
      "      10/25      4.63G      1.362      1.599      1.252         25        640: 100%|██████████| 11/11 [00:01<00:00,  9.46it/s]\n",
      "                 Class     Images  Instances      Box(P          R      mAP50  mAP50-95): 100%|██████████| 2/2 [00:00<00:00,  8.18it/s]"
     ]
    },
    {
     "name": "stdout",
     "output_type": "stream",
     "text": [
      "                   all         56        141      0.482      0.163      0.156     0.0941\n"
     ]
    },
    {
     "name": "stderr",
     "output_type": "stream",
     "text": [
      "\n"
     ]
    },
    {
     "name": "stdout",
     "output_type": "stream",
     "text": [
      "\n",
      "      Epoch    GPU_mem   box_loss   cls_loss   dfl_loss  Instances       Size\n"
     ]
    },
    {
     "name": "stderr",
     "output_type": "stream",
     "text": [
      "      11/25      4.61G      1.267      1.498      1.222         18        640: 100%|██████████| 11/11 [00:01<00:00,  9.61it/s]\n",
      "                 Class     Images  Instances      Box(P          R      mAP50  mAP50-95): 100%|██████████| 2/2 [00:00<00:00,  8.01it/s]"
     ]
    },
    {
     "name": "stdout",
     "output_type": "stream",
     "text": [
      "                   all         56        141      0.553       0.58      0.424      0.291\n"
     ]
    },
    {
     "name": "stderr",
     "output_type": "stream",
     "text": [
      "\n"
     ]
    },
    {
     "name": "stdout",
     "output_type": "stream",
     "text": [
      "\n",
      "      Epoch    GPU_mem   box_loss   cls_loss   dfl_loss  Instances       Size\n"
     ]
    },
    {
     "name": "stderr",
     "output_type": "stream",
     "text": [
      "      12/25      4.62G      1.318      1.438      1.211         52        640: 100%|██████████| 11/11 [00:01<00:00,  9.33it/s]\n",
      "                 Class     Images  Instances      Box(P          R      mAP50  mAP50-95): 100%|██████████| 2/2 [00:01<00:00,  1.92it/s]"
     ]
    },
    {
     "name": "stdout",
     "output_type": "stream",
     "text": [
      "                   all         56        141      0.455      0.655      0.451      0.177\n"
     ]
    },
    {
     "name": "stderr",
     "output_type": "stream",
     "text": [
      "\n"
     ]
    },
    {
     "name": "stdout",
     "output_type": "stream",
     "text": [
      "\n",
      "      Epoch    GPU_mem   box_loss   cls_loss   dfl_loss  Instances       Size\n"
     ]
    },
    {
     "name": "stderr",
     "output_type": "stream",
     "text": [
      "      13/25       4.6G      1.245      1.265      1.154         35        640: 100%|██████████| 11/11 [00:01<00:00,  9.62it/s]\n",
      "                 Class     Images  Instances      Box(P          R      mAP50  mAP50-95): 100%|██████████| 2/2 [00:00<00:00,  5.24it/s]"
     ]
    },
    {
     "name": "stdout",
     "output_type": "stream",
     "text": [
      "                   all         56        141      0.412      0.628      0.455      0.199\n"
     ]
    },
    {
     "name": "stderr",
     "output_type": "stream",
     "text": [
      "\n"
     ]
    },
    {
     "name": "stdout",
     "output_type": "stream",
     "text": [
      "\n",
      "      Epoch    GPU_mem   box_loss   cls_loss   dfl_loss  Instances       Size\n"
     ]
    },
    {
     "name": "stderr",
     "output_type": "stream",
     "text": [
      "      14/25      4.63G      1.313      1.274      1.227         38        640: 100%|██████████| 11/11 [00:01<00:00,  9.64it/s]\n",
      "                 Class     Images  Instances      Box(P          R      mAP50  mAP50-95): 100%|██████████| 2/2 [00:00<00:00,  7.89it/s]"
     ]
    },
    {
     "name": "stdout",
     "output_type": "stream",
     "text": [
      "                   all         56        141      0.455      0.638      0.587      0.322\n"
     ]
    },
    {
     "name": "stderr",
     "output_type": "stream",
     "text": [
      "\n"
     ]
    },
    {
     "name": "stdout",
     "output_type": "stream",
     "text": [
      "\n",
      "      Epoch    GPU_mem   box_loss   cls_loss   dfl_loss  Instances       Size\n"
     ]
    },
    {
     "name": "stderr",
     "output_type": "stream",
     "text": [
      "      15/25      4.62G      1.278      1.204      1.206         26        640: 100%|██████████| 11/11 [00:01<00:00,  9.56it/s]\n",
      "                 Class     Images  Instances      Box(P          R      mAP50  mAP50-95): 100%|██████████| 2/2 [00:00<00:00,  7.70it/s]"
     ]
    },
    {
     "name": "stdout",
     "output_type": "stream",
     "text": [
      "                   all         56        141      0.469      0.855      0.597      0.374\n"
     ]
    },
    {
     "name": "stderr",
     "output_type": "stream",
     "text": [
      "\n"
     ]
    },
    {
     "name": "stdout",
     "output_type": "stream",
     "text": [
      "Closing dataloader mosaic\n"
     ]
    },
    {
     "name": "stderr",
     "output_type": "stream",
     "text": [
      "/mnt/irisgpfs/users/lweber/jupyter_env/lib/python3.8/site-packages/torch/utils/data/dataloader.py:557: UserWarning: This DataLoader will create 8 worker processes in total. Our suggested max number of worker in current system is 7, which is smaller than what this DataLoader is going to create. Please be aware that excessive worker creation might get DataLoader running slow or even freeze, lower the worker number to avoid potential slowness/freeze if necessary.\n",
      "  warnings.warn(_create_warning_msg(\n"
     ]
    },
    {
     "name": "stdout",
     "output_type": "stream",
     "text": [
      "\n",
      "      Epoch    GPU_mem   box_loss   cls_loss   dfl_loss  Instances       Size\n"
     ]
    },
    {
     "name": "stderr",
     "output_type": "stream",
     "text": [
      "      16/25      4.63G      1.231      1.126      1.204         20        640: 100%|██████████| 11/11 [00:01<00:00,  6.30it/s]\n",
      "                 Class     Images  Instances      Box(P          R      mAP50  mAP50-95): 100%|██████████| 2/2 [00:00<00:00,  7.81it/s]"
     ]
    },
    {
     "name": "stdout",
     "output_type": "stream",
     "text": [
      "                   all         56        141      0.616      0.875      0.713      0.513\n"
     ]
    },
    {
     "name": "stderr",
     "output_type": "stream",
     "text": [
      "\n"
     ]
    },
    {
     "name": "stdout",
     "output_type": "stream",
     "text": [
      "\n",
      "      Epoch    GPU_mem   box_loss   cls_loss   dfl_loss  Instances       Size\n"
     ]
    },
    {
     "name": "stderr",
     "output_type": "stream",
     "text": [
      "      17/25       4.6G      1.216       1.09      1.154         15        640: 100%|██████████| 11/11 [00:01<00:00,  9.74it/s]\n",
      "                 Class     Images  Instances      Box(P          R      mAP50  mAP50-95): 100%|██████████| 2/2 [00:00<00:00,  8.18it/s]"
     ]
    },
    {
     "name": "stdout",
     "output_type": "stream",
     "text": [
      "                   all         56        141      0.687      0.897      0.796      0.528\n"
     ]
    },
    {
     "name": "stderr",
     "output_type": "stream",
     "text": [
      "\n"
     ]
    },
    {
     "name": "stdout",
     "output_type": "stream",
     "text": [
      "\n",
      "      Epoch    GPU_mem   box_loss   cls_loss   dfl_loss  Instances       Size\n"
     ]
    },
    {
     "name": "stderr",
     "output_type": "stream",
     "text": [
      "      18/25      4.63G      1.223      1.172      1.172         19        640: 100%|██████████| 11/11 [00:01<00:00,  9.50it/s]\n",
      "                 Class     Images  Instances      Box(P          R      mAP50  mAP50-95): 100%|██████████| 2/2 [00:00<00:00,  7.93it/s]"
     ]
    },
    {
     "name": "stdout",
     "output_type": "stream",
     "text": [
      "                   all         56        141      0.635       0.84      0.768      0.532\n"
     ]
    },
    {
     "name": "stderr",
     "output_type": "stream",
     "text": [
      "\n"
     ]
    },
    {
     "name": "stdout",
     "output_type": "stream",
     "text": [
      "\n",
      "      Epoch    GPU_mem   box_loss   cls_loss   dfl_loss  Instances       Size\n"
     ]
    },
    {
     "name": "stderr",
     "output_type": "stream",
     "text": [
      "      19/25      4.63G      1.142      1.037      1.146         11        640: 100%|██████████| 11/11 [00:01<00:00,  9.50it/s]\n",
      "                 Class     Images  Instances      Box(P          R      mAP50  mAP50-95): 100%|██████████| 2/2 [00:00<00:00,  7.98it/s]"
     ]
    },
    {
     "name": "stdout",
     "output_type": "stream",
     "text": [
      "                   all         56        141      0.719      0.843      0.815      0.577\n"
     ]
    },
    {
     "name": "stderr",
     "output_type": "stream",
     "text": [
      "\n"
     ]
    },
    {
     "name": "stdout",
     "output_type": "stream",
     "text": [
      "\n",
      "      Epoch    GPU_mem   box_loss   cls_loss   dfl_loss  Instances       Size\n"
     ]
    },
    {
     "name": "stderr",
     "output_type": "stream",
     "text": [
      "      20/25       4.6G      1.158      1.035      1.146         17        640: 100%|██████████| 11/11 [00:01<00:00,  9.72it/s]\n",
      "                 Class     Images  Instances      Box(P          R      mAP50  mAP50-95): 100%|██████████| 2/2 [00:00<00:00,  8.23it/s]"
     ]
    },
    {
     "name": "stdout",
     "output_type": "stream",
     "text": [
      "                   all         56        141      0.585      0.953      0.843      0.588\n"
     ]
    },
    {
     "name": "stderr",
     "output_type": "stream",
     "text": [
      "\n"
     ]
    },
    {
     "name": "stdout",
     "output_type": "stream",
     "text": [
      "\n",
      "      Epoch    GPU_mem   box_loss   cls_loss   dfl_loss  Instances       Size\n"
     ]
    },
    {
     "name": "stderr",
     "output_type": "stream",
     "text": [
      "      21/25       4.6G      1.074     0.9308      1.145         18        640: 100%|██████████| 11/11 [00:01<00:00,  9.71it/s]\n",
      "                 Class     Images  Instances      Box(P          R      mAP50  mAP50-95): 100%|██████████| 2/2 [00:00<00:00,  7.91it/s]"
     ]
    },
    {
     "name": "stdout",
     "output_type": "stream",
     "text": [
      "                   all         56        141       0.68      0.945      0.841      0.572\n"
     ]
    },
    {
     "name": "stderr",
     "output_type": "stream",
     "text": [
      "\n"
     ]
    },
    {
     "name": "stdout",
     "output_type": "stream",
     "text": [
      "\n",
      "      Epoch    GPU_mem   box_loss   cls_loss   dfl_loss  Instances       Size\n"
     ]
    },
    {
     "name": "stderr",
     "output_type": "stream",
     "text": [
      "      22/25      4.63G      1.096      0.922      1.121         20        640: 100%|██████████| 11/11 [00:01<00:00,  9.45it/s]\n",
      "                 Class     Images  Instances      Box(P          R      mAP50  mAP50-95): 100%|██████████| 2/2 [00:00<00:00,  6.79it/s]"
     ]
    },
    {
     "name": "stdout",
     "output_type": "stream",
     "text": [
      "                   all         56        141      0.695      0.851      0.831      0.596\n"
     ]
    },
    {
     "name": "stderr",
     "output_type": "stream",
     "text": [
      "\n"
     ]
    },
    {
     "name": "stdout",
     "output_type": "stream",
     "text": [
      "\n",
      "      Epoch    GPU_mem   box_loss   cls_loss   dfl_loss  Instances       Size\n"
     ]
    },
    {
     "name": "stderr",
     "output_type": "stream",
     "text": [
      "      23/25      4.63G      1.067     0.8847      1.107         23        640: 100%|██████████| 11/11 [00:01<00:00,  9.60it/s]\n",
      "                 Class     Images  Instances      Box(P          R      mAP50  mAP50-95): 100%|██████████| 2/2 [00:00<00:00,  7.96it/s]"
     ]
    },
    {
     "name": "stdout",
     "output_type": "stream",
     "text": [
      "                   all         56        141      0.635      0.965      0.727      0.508\n"
     ]
    },
    {
     "name": "stderr",
     "output_type": "stream",
     "text": [
      "\n"
     ]
    },
    {
     "name": "stdout",
     "output_type": "stream",
     "text": [
      "\n",
      "      Epoch    GPU_mem   box_loss   cls_loss   dfl_loss  Instances       Size\n"
     ]
    },
    {
     "name": "stderr",
     "output_type": "stream",
     "text": [
      "      24/25      4.61G      1.076     0.8582      1.112         14        640: 100%|██████████| 11/11 [00:01<00:00,  9.66it/s]\n",
      "                 Class     Images  Instances      Box(P          R      mAP50  mAP50-95): 100%|██████████| 2/2 [00:00<00:00,  8.07it/s]"
     ]
    },
    {
     "name": "stdout",
     "output_type": "stream",
     "text": [
      "                   all         56        141      0.639      0.967      0.768      0.541\n"
     ]
    },
    {
     "name": "stderr",
     "output_type": "stream",
     "text": [
      "\n"
     ]
    },
    {
     "name": "stdout",
     "output_type": "stream",
     "text": [
      "\n",
      "      Epoch    GPU_mem   box_loss   cls_loss   dfl_loss  Instances       Size\n"
     ]
    },
    {
     "name": "stderr",
     "output_type": "stream",
     "text": [
      "      25/25       4.6G      1.052     0.8449      1.122         21        640: 100%|██████████| 11/11 [00:01<00:00,  9.81it/s]\n",
      "                 Class     Images  Instances      Box(P          R      mAP50  mAP50-95): 100%|██████████| 2/2 [00:00<00:00,  8.18it/s]"
     ]
    },
    {
     "name": "stdout",
     "output_type": "stream",
     "text": [
      "                   all         56        141      0.682      0.935      0.804       0.57\n"
     ]
    },
    {
     "name": "stderr",
     "output_type": "stream",
     "text": [
      "\n"
     ]
    },
    {
     "name": "stdout",
     "output_type": "stream",
     "text": [
      "\n",
      "25 epochs completed in 0.047 hours.\n",
      "Optimizer stripped from runs/detect/train6/weights/last.pt, 22.5MB\n",
      "Optimizer stripped from runs/detect/train6/weights/best.pt, 22.5MB\n",
      "\n",
      "Validating runs/detect/train6/weights/best.pt...\n",
      "Ultralytics YOLOv8.0.230 🚀 Python-3.8.6 torch-2.1.2+cu121 CUDA:0 (Tesla V100-SXM2-32GB, 32501MiB)\n",
      "Model summary (fused): 168 layers, 11126745 parameters, 0 gradients, 28.4 GFLOPs\n"
     ]
    },
    {
     "name": "stderr",
     "output_type": "stream",
     "text": [
      "                 Class     Images  Instances      Box(P          R      mAP50  mAP50-95): 100%|██████████| 2/2 [00:00<00:00,  6.64it/s]\n"
     ]
    },
    {
     "name": "stdout",
     "output_type": "stream",
     "text": [
      "                   all         56        141      0.695      0.851      0.834      0.598\n",
      "                 Green         56         32      0.738      0.617      0.825      0.644\n",
      "                Yellow         56         15      0.373          1      0.702      0.538\n",
      "                   Red         56         94      0.973      0.936      0.976      0.612\n",
      "Speed: 0.1ms preprocess, 1.5ms inference, 0.0ms loss, 0.6ms postprocess per image\n",
      "Results saved to \u001b[1mruns/detect/train6\u001b[0m\n",
      "Ultralytics YOLOv8.0.230 🚀 Python-3.8.6 torch-2.1.2+cu121 CUDA:0 (Tesla V100-SXM2-32GB, 32501MiB)\n",
      "Model summary (fused): 168 layers, 11126745 parameters, 0 gradients, 28.4 GFLOPs\n"
     ]
    },
    {
     "name": "stderr",
     "output_type": "stream",
     "text": [
      "\u001b[34m\u001b[1mval: \u001b[0mScanning /mnt/irisgpfs/users/lweber/traffic_ligth_detector/dataset/val/labels.cache... 56 images, 7 backgrounds, 0 corrupt: 100%|██████████| 56/56 [00:00<?, ?it/s]\n",
      "/mnt/irisgpfs/users/lweber/jupyter_env/lib/python3.8/site-packages/torch/utils/data/dataloader.py:557: UserWarning: This DataLoader will create 8 worker processes in total. Our suggested max number of worker in current system is 7, which is smaller than what this DataLoader is going to create. Please be aware that excessive worker creation might get DataLoader running slow or even freeze, lower the worker number to avoid potential slowness/freeze if necessary.\n",
      "  warnings.warn(_create_warning_msg(\n",
      "                 Class     Images  Instances      Box(P          R      mAP50  mAP50-95): 100%|██████████| 4/4 [00:01<00:00,  3.93it/s]\n"
     ]
    },
    {
     "name": "stdout",
     "output_type": "stream",
     "text": [
      "                   all         56        141      0.695      0.852       0.83      0.595\n",
      "                 Green         56         32      0.739       0.62      0.823      0.644\n",
      "                Yellow         56         15      0.373          1      0.692      0.531\n",
      "                   Red         56         94      0.973      0.936      0.976      0.609\n",
      "Speed: 0.1ms preprocess, 4.5ms inference, 0.0ms loss, 1.0ms postprocess per image\n",
      "Results saved to \u001b[1mruns/detect/train62\u001b[0m\n"
     ]
    }
   ],
   "source": [
    "#Train the model using YOLOv8\n",
    "model = YOLO(\"yolov8s.pt\")\n",
    "model.train(data=\"./data.yaml\", epochs=25, lr0= 0.005, iou=0.5, optimizer='AdamW')\n",
    "metrics = model.val()"
   ]
  },
  {
   "cell_type": "code",
   "execution_count": null,
   "id": "134d24b1-cf7b-4b2a-9e15-2d994914bce2",
   "metadata": {},
   "outputs": [],
   "source": []
  }
 ],
 "metadata": {
  "kernelspec": {
   "display_name": "Python 3 (ipykernel)",
   "language": "python",
   "name": "python3"
  },
  "language_info": {
   "codemirror_mode": {
    "name": "ipython",
    "version": 3
   },
   "file_extension": ".py",
   "mimetype": "text/x-python",
   "name": "python",
   "nbconvert_exporter": "python",
   "pygments_lexer": "ipython3",
   "version": "3.8.6"
  }
 },
 "nbformat": 4,
 "nbformat_minor": 5
}
