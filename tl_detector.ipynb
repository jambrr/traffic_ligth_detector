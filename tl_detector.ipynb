{
 "cells": [
  {
   "cell_type": "code",
   "execution_count": 2,
   "id": "ee5b3f35-bd42-4900-af4e-54facd91479b",
   "metadata": {},
   "outputs": [],
   "source": [
    "import os\n",
    "import yaml\n",
    "from ultralytics import YOLO\n",
    "import random\n",
    "import os\n",
    "import shutil"
   ]
  },
  {
   "cell_type": "code",
   "execution_count": 14,
   "id": "22481200-57b4-4964-a1ee-a72211e2939f",
   "metadata": {},
   "outputs": [
    {
     "name": "stdout",
     "output_type": "stream",
     "text": [
      "Splitting completed successfully.\n"
     ]
    }
   ],
   "source": [
    "\n",
    "\n",
    "def split_images(image_directory, output_train, output_val, output_test):\n",
    "    \"\"\"\n",
    "    Split images into training, validation, and testing sets.\n",
    "    Args:\n",
    "        image_directory: Directory containing the images.\n",
    "        output_train: Directory to store the training set.\n",
    "        output_val: Directory to store the validation set.\n",
    "        output_test: Directory to store the testing set.\n",
    "    \"\"\"\n",
    "    # Create output directories\n",
    "    os.makedirs(output_train, exist_ok=True)\n",
    "    os.makedirs(output_val, exist_ok=True)\n",
    "    os.makedirs(output_test, exist_ok=True)\n",
    "\n",
    "    # Get a list of image filenames\n",
    "    image_filenames = [filename for filename in os.listdir(image_directory) if filename.endswith(('.jpg', '.jpeg', '.png'))]\n",
    "    \n",
    "    # Set the seed for reproducibility\n",
    "    random.seed(42)\n",
    "\n",
    "    # Shuffle the image filenames\n",
    "    random.shuffle(image_filenames)\n",
    "\n",
    "    # Calculate split indices\n",
    "    total_images = len(image_filenames)\n",
    "    train_split = int(0.6 * total_images)\n",
    "    val_split = int(0.8 * total_images)\n",
    "\n",
    "    # Assign images to splits\n",
    "    train_images = image_filenames[:train_split]\n",
    "    val_images = image_filenames[train_split:val_split]\n",
    "    test_images = image_filenames[val_split:]\n",
    "\n",
    "    # Copy images to the corresponding directories\n",
    "    for filename in train_images:\n",
    "        shutil.copy(os.path.join(image_directory, filename), os.path.join(output_train, filename))\n",
    "    \n",
    "    for filename in val_images:\n",
    "        shutil.copy(os.path.join(image_directory, filename), os.path.join(output_val, filename))\n",
    "    \n",
    "    for filename in test_images:\n",
    "        shutil.copy(os.path.join(image_directory, filename), os.path.join(output_test, filename))\n",
    "\n",
    "    print(\"Splitting completed successfully.\")\n",
    "\n",
    "# Example usage:\n",
    "image_directory_path = \"./dataset/sim_training_data/sim_data_capture\"\n",
    "output_train_path = \"./dataset/train/images\"\n",
    "output_val_path = \"./dataset/val/images\"\n",
    "output_test_path = \"./dataset/test/images\"\n",
    "split_images(image_directory_path, output_train_path, output_val_path, output_test_path)\n"
   ]
  },
  {
   "cell_type": "code",
   "execution_count": 9,
   "id": "54a633ee-1e12-4da3-886e-473f910dc619",
   "metadata": {},
   "outputs": [
    {
     "name": "stdout",
     "output_type": "stream",
     "text": [
      "File 1: ./dataset/sim_training_data/labels/left0003.txt created successfully.\n",
      "File 2: ./dataset/sim_training_data/labels/left0011.txt created successfully.\n",
      "File 3: ./dataset/sim_training_data/labels/left0012.txt created successfully.\n",
      "File 4: ./dataset/sim_training_data/labels/left0013.txt created successfully.\n",
      "File 5: ./dataset/sim_training_data/labels/left0014.txt created successfully.\n",
      "File 6: ./dataset/sim_training_data/labels/left0015.txt created successfully.\n",
      "File 7: ./dataset/sim_training_data/labels/left0016.txt created successfully.\n",
      "File 8: ./dataset/sim_training_data/labels/left0017.txt created successfully.\n",
      "File 9: ./dataset/sim_training_data/labels/left0018.txt created successfully.\n",
      "File 10: ./dataset/sim_training_data/labels/left0019.txt created successfully.\n",
      "File 11: ./dataset/sim_training_data/labels/left0020.txt created successfully.\n",
      "File 12: ./dataset/sim_training_data/labels/left0021.txt created successfully.\n",
      "File 13: ./dataset/sim_training_data/labels/left0022.txt created successfully.\n",
      "File 14: ./dataset/sim_training_data/labels/left0023.txt created successfully.\n",
      "File 15: ./dataset/sim_training_data/labels/left0024.txt created successfully.\n",
      "File 16: ./dataset/sim_training_data/labels/left0025.txt created successfully.\n",
      "File 17: ./dataset/sim_training_data/labels/left0026.txt created successfully.\n",
      "File 18: ./dataset/sim_training_data/labels/left0027.txt created successfully.\n",
      "File 19: ./dataset/sim_training_data/labels/left0028.txt created successfully.\n",
      "File 20: ./dataset/sim_training_data/labels/left0029.txt created successfully.\n",
      "File 21: ./dataset/sim_training_data/labels/left0030.txt created successfully.\n",
      "File 22: ./dataset/sim_training_data/labels/left0031.txt created successfully.\n",
      "File 23: ./dataset/sim_training_data/labels/left0032.txt created successfully.\n",
      "File 24: ./dataset/sim_training_data/labels/left0033.txt created successfully.\n",
      "File 25: ./dataset/sim_training_data/labels/left0034.txt created successfully.\n",
      "File 26: ./dataset/sim_training_data/labels/left0035.txt created successfully.\n",
      "File 27: ./dataset/sim_training_data/labels/left0036.txt created successfully.\n",
      "File 28: ./dataset/sim_training_data/labels/left0037.txt created successfully.\n",
      "File 29: ./dataset/sim_training_data/labels/left0038.txt created successfully.\n",
      "File 30: ./dataset/sim_training_data/labels/left0039.txt created successfully.\n",
      "File 31: ./dataset/sim_training_data/labels/left0040.txt created successfully.\n",
      "File 32: ./dataset/sim_training_data/labels/left0041.txt created successfully.\n",
      "File 33: ./dataset/sim_training_data/labels/left0042.txt created successfully.\n",
      "File 34: ./dataset/sim_training_data/labels/left0043.txt created successfully.\n",
      "File 35: ./dataset/sim_training_data/labels/left0044.txt created successfully.\n",
      "File 36: ./dataset/sim_training_data/labels/left0045.txt created successfully.\n",
      "File 37: ./dataset/sim_training_data/labels/left0046.txt created successfully.\n",
      "File 38: ./dataset/sim_training_data/labels/left0047.txt created successfully.\n",
      "File 39: ./dataset/sim_training_data/labels/left0048.txt created successfully.\n",
      "File 40: ./dataset/sim_training_data/labels/left0049.txt created successfully.\n",
      "File 41: ./dataset/sim_training_data/labels/left0050.txt created successfully.\n",
      "File 42: ./dataset/sim_training_data/labels/left0051.txt created successfully.\n",
      "File 43: ./dataset/sim_training_data/labels/left0052.txt created successfully.\n",
      "File 44: ./dataset/sim_training_data/labels/left0053.txt created successfully.\n",
      "File 45: ./dataset/sim_training_data/labels/left0054.txt created successfully.\n",
      "File 46: ./dataset/sim_training_data/labels/left0055.txt created successfully.\n",
      "File 47: ./dataset/sim_training_data/labels/left0056.txt created successfully.\n",
      "File 48: ./dataset/sim_training_data/labels/left0057.txt created successfully.\n",
      "File 49: ./dataset/sim_training_data/labels/left0058.txt created successfully.\n",
      "File 50: ./dataset/sim_training_data/labels/left0059.txt created successfully.\n",
      "File 51: ./dataset/sim_training_data/labels/left0411.txt created successfully.\n",
      "File 52: ./dataset/sim_training_data/labels/left0412.txt created successfully.\n",
      "File 53: ./dataset/sim_training_data/labels/left0413.txt created successfully.\n",
      "File 54: ./dataset/sim_training_data/labels/left0414.txt created successfully.\n",
      "File 55: ./dataset/sim_training_data/labels/left0415.txt created successfully.\n",
      "File 56: ./dataset/sim_training_data/labels/left0416.txt created successfully.\n",
      "File 57: ./dataset/sim_training_data/labels/left0417.txt created successfully.\n",
      "File 58: ./dataset/sim_training_data/labels/left0418.txt created successfully.\n",
      "File 59: ./dataset/sim_training_data/labels/left0419.txt created successfully.\n",
      "File 60: ./dataset/sim_training_data/labels/left0420.txt created successfully.\n",
      "File 61: ./dataset/sim_training_data/labels/left0421.txt created successfully.\n",
      "File 62: ./dataset/sim_training_data/labels/left0422.txt created successfully.\n",
      "File 63: ./dataset/sim_training_data/labels/left0423.txt created successfully.\n",
      "File 64: ./dataset/sim_training_data/labels/left0424.txt created successfully.\n",
      "File 65: ./dataset/sim_training_data/labels/left0425.txt created successfully.\n",
      "File 66: ./dataset/sim_training_data/labels/left0426.txt created successfully.\n",
      "File 67: ./dataset/sim_training_data/labels/left0427.txt created successfully.\n",
      "File 68: ./dataset/sim_training_data/labels/left0428.txt created successfully.\n",
      "File 69: ./dataset/sim_training_data/labels/left0429.txt created successfully.\n",
      "File 70: ./dataset/sim_training_data/labels/left0430.txt created successfully.\n",
      "File 71: ./dataset/sim_training_data/labels/left0431.txt created successfully.\n",
      "File 72: ./dataset/sim_training_data/labels/left0432.txt created successfully.\n",
      "File 73: ./dataset/sim_training_data/labels/left0433.txt created successfully.\n",
      "File 74: ./dataset/sim_training_data/labels/left0434.txt created successfully.\n",
      "File 75: ./dataset/sim_training_data/labels/left0435.txt created successfully.\n",
      "File 76: ./dataset/sim_training_data/labels/left0436.txt created successfully.\n",
      "File 77: ./dataset/sim_training_data/labels/left0437.txt created successfully.\n",
      "File 78: ./dataset/sim_training_data/labels/left0438.txt created successfully.\n",
      "File 79: ./dataset/sim_training_data/labels/left0439.txt created successfully.\n",
      "File 80: ./dataset/sim_training_data/labels/left0440.txt created successfully.\n",
      "File 81: ./dataset/sim_training_data/labels/left0441.txt created successfully.\n",
      "File 82: ./dataset/sim_training_data/labels/left0445.txt created successfully.\n",
      "File 83: ./dataset/sim_training_data/labels/left0446.txt created successfully.\n",
      "File 84: ./dataset/sim_training_data/labels/left0447.txt created successfully.\n",
      "File 85: ./dataset/sim_training_data/labels/left0448.txt created successfully.\n",
      "File 86: ./dataset/sim_training_data/labels/left0449.txt created successfully.\n",
      "File 87: ./dataset/sim_training_data/labels/left0450.txt created successfully.\n",
      "File 88: ./dataset/sim_training_data/labels/left0451.txt created successfully.\n",
      "File 89: ./dataset/sim_training_data/labels/left0452.txt created successfully.\n",
      "File 90: ./dataset/sim_training_data/labels/left0453.txt created successfully.\n",
      "File 91: ./dataset/sim_training_data/labels/left0454.txt created successfully.\n",
      "File 92: ./dataset/sim_training_data/labels/left0455.txt created successfully.\n",
      "File 93: ./dataset/sim_training_data/labels/left0456.txt created successfully.\n",
      "File 94: ./dataset/sim_training_data/labels/left0457.txt created successfully.\n",
      "File 95: ./dataset/sim_training_data/labels/left0458.txt created successfully.\n",
      "File 96: ./dataset/sim_training_data/labels/left0459.txt created successfully.\n",
      "File 97: ./dataset/sim_training_data/labels/left0460.txt created successfully.\n",
      "File 98: ./dataset/sim_training_data/labels/left0461.txt created successfully.\n",
      "File 99: ./dataset/sim_training_data/labels/left0462.txt created successfully.\n",
      "File 100: ./dataset/sim_training_data/labels/left0463.txt created successfully.\n",
      "File 101: ./dataset/sim_training_data/labels/left0464.txt created successfully.\n",
      "File 102: ./dataset/sim_training_data/labels/left0465.txt created successfully.\n",
      "File 103: ./dataset/sim_training_data/labels/left0466.txt created successfully.\n",
      "File 104: ./dataset/sim_training_data/labels/left0467.txt created successfully.\n",
      "File 105: ./dataset/sim_training_data/labels/left0468.txt created successfully.\n",
      "File 106: ./dataset/sim_training_data/labels/left0469.txt created successfully.\n",
      "File 107: ./dataset/sim_training_data/labels/left0470.txt created successfully.\n",
      "File 108: ./dataset/sim_training_data/labels/left0471.txt created successfully.\n",
      "File 109: ./dataset/sim_training_data/labels/left0472.txt created successfully.\n",
      "File 110: ./dataset/sim_training_data/labels/left0473.txt created successfully.\n",
      "File 111: ./dataset/sim_training_data/labels/left0474.txt created successfully.\n",
      "File 112: ./dataset/sim_training_data/labels/left0475.txt created successfully.\n",
      "File 113: ./dataset/sim_training_data/labels/left0476.txt created successfully.\n",
      "File 114: ./dataset/sim_training_data/labels/left0477.txt created successfully.\n",
      "File 115: ./dataset/sim_training_data/labels/left0478.txt created successfully.\n",
      "File 116: ./dataset/sim_training_data/labels/left0479.txt created successfully.\n",
      "File 117: ./dataset/sim_training_data/labels/left0480.txt created successfully.\n",
      "File 118: ./dataset/sim_training_data/labels/left0481.txt created successfully.\n",
      "File 119: ./dataset/sim_training_data/labels/left0482.txt created successfully.\n",
      "File 120: ./dataset/sim_training_data/labels/left0483.txt created successfully.\n",
      "File 121: ./dataset/sim_training_data/labels/left0484.txt created successfully.\n",
      "File 122: ./dataset/sim_training_data/labels/left0485.txt created successfully.\n",
      "File 123: ./dataset/sim_training_data/labels/left0486.txt created successfully.\n",
      "File 124: ./dataset/sim_training_data/labels/left0487.txt created successfully.\n",
      "File 125: ./dataset/sim_training_data/labels/left0488.txt created successfully.\n",
      "File 126: ./dataset/sim_training_data/labels/left0489.txt created successfully.\n",
      "File 127: ./dataset/sim_training_data/labels/left0490.txt created successfully.\n",
      "File 128: ./dataset/sim_training_data/labels/left0491.txt created successfully.\n",
      "File 129: ./dataset/sim_training_data/labels/left0492.txt created successfully.\n",
      "File 130: ./dataset/sim_training_data/labels/left0493.txt created successfully.\n",
      "File 131: ./dataset/sim_training_data/labels/left0494.txt created successfully.\n",
      "File 132: ./dataset/sim_training_data/labels/left0495.txt created successfully.\n",
      "File 133: ./dataset/sim_training_data/labels/left0496.txt created successfully.\n",
      "File 134: ./dataset/sim_training_data/labels/left0497.txt created successfully.\n",
      "File 135: ./dataset/sim_training_data/labels/left0498.txt created successfully.\n",
      "File 136: ./dataset/sim_training_data/labels/left0499.txt created successfully.\n",
      "File 137: ./dataset/sim_training_data/labels/left0500.txt created successfully.\n",
      "File 138: ./dataset/sim_training_data/labels/left0501.txt created successfully.\n",
      "File 139: ./dataset/sim_training_data/labels/left0502.txt created successfully.\n",
      "File 140: ./dataset/sim_training_data/labels/left0503.txt created successfully.\n",
      "File 141: ./dataset/sim_training_data/labels/left0504.txt created successfully.\n",
      "File 142: ./dataset/sim_training_data/labels/left0505.txt created successfully.\n",
      "File 143: ./dataset/sim_training_data/labels/left0506.txt created successfully.\n",
      "File 144: ./dataset/sim_training_data/labels/left0507.txt created successfully.\n",
      "File 145: ./dataset/sim_training_data/labels/left0508.txt created successfully.\n",
      "File 146: ./dataset/sim_training_data/labels/left0509.txt created successfully.\n",
      "File 147: ./dataset/sim_training_data/labels/left0510.txt created successfully.\n",
      "File 148: ./dataset/sim_training_data/labels/left0511.txt created successfully.\n",
      "File 149: ./dataset/sim_training_data/labels/left0512.txt created successfully.\n",
      "File 150: ./dataset/sim_training_data/labels/left0513.txt created successfully.\n",
      "File 151: ./dataset/sim_training_data/labels/left0514.txt created successfully.\n",
      "File 152: ./dataset/sim_training_data/labels/left0515.txt created successfully.\n",
      "File 153: ./dataset/sim_training_data/labels/left0516.txt created successfully.\n",
      "File 154: ./dataset/sim_training_data/labels/left0517.txt created successfully.\n",
      "File 155: ./dataset/sim_training_data/labels/left0518.txt created successfully.\n",
      "File 156: ./dataset/sim_training_data/labels/left0519.txt created successfully.\n",
      "File 157: ./dataset/sim_training_data/labels/left0520.txt created successfully.\n",
      "File 158: ./dataset/sim_training_data/labels/left0521.txt created successfully.\n",
      "File 159: ./dataset/sim_training_data/labels/left0522.txt created successfully.\n",
      "File 160: ./dataset/sim_training_data/labels/left0523.txt created successfully.\n",
      "File 161: ./dataset/sim_training_data/labels/left0524.txt created successfully.\n",
      "File 162: ./dataset/sim_training_data/labels/left0525.txt created successfully.\n",
      "File 163: ./dataset/sim_training_data/labels/left0526.txt created successfully.\n",
      "File 164: ./dataset/sim_training_data/labels/left0527.txt created successfully.\n",
      "File 165: ./dataset/sim_training_data/labels/left0528.txt created successfully.\n",
      "File 166: ./dataset/sim_training_data/labels/left0529.txt created successfully.\n",
      "File 167: ./dataset/sim_training_data/labels/left0530.txt created successfully.\n",
      "File 168: ./dataset/sim_training_data/labels/left0531.txt created successfully.\n",
      "File 169: ./dataset/sim_training_data/labels/left0532.txt created successfully.\n",
      "File 170: ./dataset/sim_training_data/labels/left0533.txt created successfully.\n",
      "File 171: ./dataset/sim_training_data/labels/left0534.txt created successfully.\n",
      "File 172: ./dataset/sim_training_data/labels/left0535.txt created successfully.\n",
      "File 173: ./dataset/sim_training_data/labels/left0536.txt created successfully.\n",
      "File 174: ./dataset/sim_training_data/labels/left0537.txt created successfully.\n",
      "File 175: ./dataset/sim_training_data/labels/left0538.txt created successfully.\n",
      "File 176: ./dataset/sim_training_data/labels/left0539.txt created successfully.\n",
      "File 177: ./dataset/sim_training_data/labels/left0540.txt created successfully.\n",
      "File 178: ./dataset/sim_training_data/labels/left0541.txt created successfully.\n",
      "File 179: ./dataset/sim_training_data/labels/left0542.txt created successfully.\n",
      "File 180: ./dataset/sim_training_data/labels/left0543.txt created successfully.\n",
      "File 181: ./dataset/sim_training_data/labels/left0544.txt created successfully.\n",
      "File 182: ./dataset/sim_training_data/labels/left0545.txt created successfully.\n",
      "File 183: ./dataset/sim_training_data/labels/left0546.txt created successfully.\n",
      "File 184: ./dataset/sim_training_data/labels/left0547.txt created successfully.\n",
      "File 185: ./dataset/sim_training_data/labels/left0548.txt created successfully.\n",
      "File 186: ./dataset/sim_training_data/labels/left0549.txt created successfully.\n",
      "File 187: ./dataset/sim_training_data/labels/left0550.txt created successfully.\n",
      "File 188: ./dataset/sim_training_data/labels/left0551.txt created successfully.\n",
      "File 189: ./dataset/sim_training_data/labels/left0552.txt created successfully.\n",
      "File 190: ./dataset/sim_training_data/labels/left0553.txt created successfully.\n",
      "File 191: ./dataset/sim_training_data/labels/left0554.txt created successfully.\n",
      "File 192: ./dataset/sim_training_data/labels/left0555.txt created successfully.\n",
      "File 193: ./dataset/sim_training_data/labels/left0556.txt created successfully.\n",
      "File 194: ./dataset/sim_training_data/labels/left0557.txt created successfully.\n",
      "File 195: ./dataset/sim_training_data/labels/left0558.txt created successfully.\n",
      "File 196: ./dataset/sim_training_data/labels/left0559.txt created successfully.\n",
      "File 197: ./dataset/sim_training_data/labels/left0560.txt created successfully.\n",
      "File 198: ./dataset/sim_training_data/labels/left0561.txt created successfully.\n",
      "File 199: ./dataset/sim_training_data/labels/left0562.txt created successfully.\n",
      "File 200: ./dataset/sim_training_data/labels/left0563.txt created successfully.\n",
      "File 201: ./dataset/sim_training_data/labels/left0564.txt created successfully.\n",
      "File 202: ./dataset/sim_training_data/labels/left0565.txt created successfully.\n",
      "File 203: ./dataset/sim_training_data/labels/left0566.txt created successfully.\n",
      "File 204: ./dataset/sim_training_data/labels/left0567.txt created successfully.\n",
      "File 205: ./dataset/sim_training_data/labels/left0568.txt created successfully.\n",
      "File 206: ./dataset/sim_training_data/labels/left0569.txt created successfully.\n",
      "File 207: ./dataset/sim_training_data/labels/left0570.txt created successfully.\n",
      "File 208: ./dataset/sim_training_data/labels/left0571.txt created successfully.\n",
      "File 209: ./dataset/sim_training_data/labels/left0572.txt created successfully.\n",
      "File 210: ./dataset/sim_training_data/labels/left0573.txt created successfully.\n",
      "File 211: ./dataset/sim_training_data/labels/left0574.txt created successfully.\n",
      "File 212: ./dataset/sim_training_data/labels/left0575.txt created successfully.\n",
      "File 213: ./dataset/sim_training_data/labels/left0576.txt created successfully.\n",
      "File 214: ./dataset/sim_training_data/labels/left0577.txt created successfully.\n",
      "File 215: ./dataset/sim_training_data/labels/left0578.txt created successfully.\n",
      "File 216: ./dataset/sim_training_data/labels/left0579.txt created successfully.\n",
      "File 217: ./dataset/sim_training_data/labels/left0580.txt created successfully.\n",
      "File 218: ./dataset/sim_training_data/labels/left0581.txt created successfully.\n",
      "File 219: ./dataset/sim_training_data/labels/left0582.txt created successfully.\n",
      "File 220: ./dataset/sim_training_data/labels/left0583.txt created successfully.\n",
      "File 221: ./dataset/sim_training_data/labels/left0584.txt created successfully.\n",
      "File 222: ./dataset/sim_training_data/labels/left0585.txt created successfully.\n",
      "File 223: ./dataset/sim_training_data/labels/left0586.txt created successfully.\n",
      "File 224: ./dataset/sim_training_data/labels/left0587.txt created successfully.\n",
      "File 225: ./dataset/sim_training_data/labels/left0588.txt created successfully.\n",
      "File 226: ./dataset/sim_training_data/labels/left0589.txt created successfully.\n",
      "File 227: ./dataset/sim_training_data/labels/left0590.txt created successfully.\n",
      "File 228: ./dataset/sim_training_data/labels/left0591.txt created successfully.\n",
      "File 229: ./dataset/sim_training_data/labels/left0592.txt created successfully.\n",
      "File 230: ./dataset/sim_training_data/labels/left0593.txt created successfully.\n",
      "File 231: ./dataset/sim_training_data/labels/left0594.txt created successfully.\n",
      "File 232: ./dataset/sim_training_data/labels/left0595.txt created successfully.\n",
      "File 233: ./dataset/sim_training_data/labels/left0596.txt created successfully.\n",
      "File 234: ./dataset/sim_training_data/labels/left0597.txt created successfully.\n",
      "File 235: ./dataset/sim_training_data/labels/left0598.txt created successfully.\n",
      "File 236: ./dataset/sim_training_data/labels/left0599.txt created successfully.\n",
      "File 237: ./dataset/sim_training_data/labels/left0600.txt created successfully.\n",
      "File 238: ./dataset/sim_training_data/labels/left0601.txt created successfully.\n",
      "File 239: ./dataset/sim_training_data/labels/left0602.txt created successfully.\n",
      "File 240: ./dataset/sim_training_data/labels/left0603.txt created successfully.\n",
      "File 241: ./dataset/sim_training_data/labels/left0604.txt created successfully.\n",
      "File 242: ./dataset/sim_training_data/labels/left0605.txt created successfully.\n",
      "File 243: ./dataset/sim_training_data/labels/left0606.txt created successfully.\n",
      "File 244: ./dataset/sim_training_data/labels/left0607.txt created successfully.\n",
      "File 245: ./dataset/sim_training_data/labels/left0608.txt created successfully.\n",
      "File 246: ./dataset/sim_training_data/labels/left0609.txt created successfully.\n",
      "File 247: ./dataset/sim_training_data/labels/left0610.txt created successfully.\n",
      "File 248: ./dataset/sim_training_data/labels/left0611.txt created successfully.\n",
      "File 249: ./dataset/sim_training_data/labels/left0612.txt created successfully.\n",
      "File 250: ./dataset/sim_training_data/labels/left0613.txt created successfully.\n",
      "File 251: ./dataset/sim_training_data/labels/left0614.txt created successfully.\n",
      "File 252: ./dataset/sim_training_data/labels/left0615.txt created successfully.\n",
      "File 253: ./dataset/sim_training_data/labels/left0616.txt created successfully.\n",
      "File 254: ./dataset/sim_training_data/labels/left0617.txt created successfully.\n",
      "File 255: ./dataset/sim_training_data/labels/left0618.txt created successfully.\n",
      "File 256: ./dataset/sim_training_data/labels/left0619.txt created successfully.\n",
      "File 257: ./dataset/sim_training_data/labels/left0620.txt created successfully.\n",
      "File 258: ./dataset/sim_training_data/labels/left0621.txt created successfully.\n",
      "File 259: ./dataset/sim_training_data/labels/left0622.txt created successfully.\n",
      "File 260: ./dataset/sim_training_data/labels/left0623.txt created successfully.\n",
      "File 261: ./dataset/sim_training_data/labels/left0624.txt created successfully.\n",
      "File 262: ./dataset/sim_training_data/labels/left0625.txt created successfully.\n",
      "File 263: ./dataset/sim_training_data/labels/left0626.txt created successfully.\n",
      "File 264: ./dataset/sim_training_data/labels/left0821.txt created successfully.\n",
      "File 265: ./dataset/sim_training_data/labels/left0937.txt created successfully.\n",
      "File 266: ./dataset/sim_training_data/labels/left0969.txt created successfully.\n",
      "File 267: ./dataset/sim_training_data/labels/left0970.txt created successfully.\n",
      "File 268: ./dataset/sim_training_data/labels/left0971.txt created successfully.\n",
      "File 269: ./dataset/sim_training_data/labels/left0972.txt created successfully.\n",
      "File 270: ./dataset/sim_training_data/labels/left0973.txt created successfully.\n",
      "File 271: ./dataset/sim_training_data/labels/left0983.txt created successfully.\n",
      "File 272: ./dataset/sim_training_data/labels/left0984.txt created successfully.\n",
      "File 273: ./dataset/sim_training_data/labels/left0987.txt created successfully.\n",
      "File 274: ./dataset/sim_training_data/labels/left0988.txt created successfully.\n",
      "File 275: ./dataset/sim_training_data/labels/left0991.txt created successfully.\n",
      "File 276: ./dataset/sim_training_data/labels/left1100.txt created successfully.\n",
      "File 277: ./dataset/sim_training_data/labels/left1112.txt created successfully.\n"
     ]
    }
   ],
   "source": [
    "def normalize_bbox(x1, y1, x2, y2, image_width, image_height):\n",
    "    \"\"\"\n",
    "    Normalize bounding box coordinates.\n",
    "    Args:\n",
    "        x1, y1, x2, y2: Bounding box coordinates.\n",
    "        image_width, image_height: Dimensions of the image.\n",
    "\n",
    "    Returns:\n",
    "        Normalized bounding box coordinates (x_center_normalized, y_center_normalized, bbox_width_normalized, bbox_height_normalized).\n",
    "    \"\"\"\n",
    "    bbox_width = x2 - x1\n",
    "    bbox_height = y2 - y1\n",
    "    x_center = x1 + bbox_width / 2\n",
    "    y_center = y1 + bbox_height / 2\n",
    "\n",
    "    x_center_normalized = x_center / image_width\n",
    "    y_center_normalized = y_center / image_height\n",
    "    bbox_width_normalized = bbox_width / image_width\n",
    "    bbox_height_normalized = bbox_height / image_height\n",
    "\n",
    "    return x_center_normalized, y_center_normalized, bbox_width_normalized, bbox_height_normalized\n",
    "\n",
    "\n",
    "def convert_annotations_to_txt(input_file, output_directory):\n",
    "    class_index_mapping = {\"Green\": 0, \"Yellow\": 1, \"Red\": 2}\n",
    "    \n",
    "    with open(input_file, 'r') as f:\n",
    "        annotations_list = yaml.safe_load(f)\n",
    "\n",
    "    for i, image_annotation in enumerate(annotations_list):\n",
    "        filename = os.path.join(output_directory, f\"{image_annotation['filename'].split('/')[-1].split('.')[0]}.txt\")\n",
    "\n",
    "        with open(filename, \"w\") as file:\n",
    "            \n",
    "            for annotation in image_annotation['annotations']:\n",
    "                class_index = class_index_mapping.get(annotation['class'], -1)\n",
    "                \n",
    "                x1 = annotation['xmin']\n",
    "                y1 = annotation['ymin']\n",
    "                x2 = x1 + annotation['x_width']\n",
    "                y2 = y1 + annotation['y_height']\n",
    "\n",
    "                # Normalize the values using the correct image dimensions (800x600)\n",
    "                x_center_normalized, y_center_normalized, bbox_width_normalized, bbox_height_normalized = normalize_bbox(x1, y1, x2, y2, image_width=800, image_height=600)\n",
    "                \n",
    "                file.write(f\"{class_index} {x_center_normalized} {y_center_normalized} {bbox_width_normalized} {bbox_height_normalized}\\n\")\n",
    "\n",
    "                #file.write(f\"{class_index}\\t{annotation['x_width']}\\t{annotation['xmin']}\\t{annotation['y_height']}\\t{annotation['ymin']}\\n\")\n",
    "\n",
    "        print(f\"File {i + 1}: {filename} created successfully.\")\n",
    "\n",
    "input_file_path = \"./dataset/sim_data_annotations.yaml\"\n",
    "output_directory_path = \"./dataset/sim_training_data/labels\"\n",
    "convert_annotations_to_txt(input_file_path, output_directory_path)"
   ]
  },
  {
   "cell_type": "code",
   "execution_count": 10,
   "id": "90f76ccd-32e4-4f78-bb40-4e3785ce5a0f",
   "metadata": {},
   "outputs": [
    {
     "name": "stdout",
     "output_type": "stream",
     "text": [
      "Label file for left0435.jpg copied successfully.\n",
      "Label file for left0529.jpg copied successfully.\n",
      "Label file for left0623.jpg copied successfully.\n",
      "Label file for left0014.jpg copied successfully.\n",
      "Label file for left0575.jpg copied successfully.\n",
      "Label file for left0413.jpg copied successfully.\n",
      "Label file for left0550.jpg copied successfully.\n",
      "Label file for left0609.jpg copied successfully.\n",
      "Label file for left0625.jpg copied successfully.\n",
      "Label file for left0617.jpg copied successfully.\n",
      "Label file for left0469.jpg copied successfully.\n",
      "Label file for left0507.jpg copied successfully.\n",
      "Label file for left0015.jpg copied successfully.\n",
      "Label file for left0584.jpg copied successfully.\n",
      "Label file for left0602.jpg copied successfully.\n",
      "Label file for left0509.jpg copied successfully.\n",
      "Label file for left0481.jpg copied successfully.\n",
      "Label file for left0503.jpg copied successfully.\n",
      "Label file for left0044.jpg copied successfully.\n",
      "Label file for left0024.jpg copied successfully.\n",
      "Label file for left0558.jpg copied successfully.\n",
      "Label file for left0499.jpg copied successfully.\n",
      "Label file for left0057.jpg copied successfully.\n",
      "Label file for left0434.jpg copied successfully.\n",
      "Label file for left0023.jpg copied successfully.\n",
      "Label file for left0596.jpg copied successfully.\n",
      "Label file for left0547.jpg copied successfully.\n",
      "Label file for left0555.jpg copied successfully.\n",
      "Label file for left0479.jpg copied successfully.\n",
      "Label file for left0017.jpg copied successfully.\n",
      "Label file for left0973.jpg copied successfully.\n",
      "Label file for left0508.jpg copied successfully.\n",
      "Label file for left0544.jpg copied successfully.\n",
      "Label file for left0510.jpg copied successfully.\n",
      "Label file for left0502.jpg copied successfully.\n",
      "Label file for left0494.jpg copied successfully.\n",
      "Label file for left0431.jpg copied successfully.\n",
      "Label file for left0056.jpg copied successfully.\n",
      "Label file for left0003.jpg copied successfully.\n",
      "Label file for left0042.jpg copied successfully.\n",
      "Label file for left0970.jpg copied successfully.\n",
      "Label file for left0018.jpg copied successfully.\n",
      "Label file for left0576.jpg copied successfully.\n",
      "Label file for left0605.jpg copied successfully.\n",
      "Label file for left0058.jpg copied successfully.\n",
      "Label file for left0498.jpg copied successfully.\n",
      "Label file for left0616.jpg copied successfully.\n",
      "Label file for left0488.jpg copied successfully.\n",
      "Label file for left0049.jpg copied successfully.\n",
      "Label file for left0612.jpg copied successfully.\n",
      "Label file for left0480.jpg copied successfully.\n",
      "Label file for left0581.jpg copied successfully.\n",
      "Label file for left0495.jpg copied successfully.\n",
      "Label file for left0428.jpg copied successfully.\n",
      "Label file for left0436.jpg copied successfully.\n",
      "Label file for left0050.jpg copied successfully.\n",
      "Label file for left0475.jpg copied successfully.\n",
      "Label file for left0047.jpg copied successfully.\n",
      "Label file for left0030.jpg copied successfully.\n",
      "Label file for left0456.jpg copied successfully.\n",
      "Label file for left0052.jpg copied successfully.\n",
      "Label file for left0972.jpg copied successfully.\n",
      "Label file for left0437.jpg copied successfully.\n",
      "Label file for left0433.jpg copied successfully.\n",
      "Label file for left0011.jpg copied successfully.\n",
      "Label file for left0542.jpg copied successfully.\n",
      "Label file for left0028.jpg copied successfully.\n",
      "Label file for left0521.jpg copied successfully.\n",
      "Label file for left0599.jpg copied successfully.\n",
      "Label file for left0582.jpg copied successfully.\n",
      "Label file for left0533.jpg copied successfully.\n",
      "Label file for left0025.jpg copied successfully.\n",
      "Label file for left0988.jpg copied successfully.\n",
      "Label file for left0538.jpg copied successfully.\n",
      "Label file for left0048.jpg copied successfully.\n",
      "Label file for left0487.jpg copied successfully.\n",
      "Label file for left0045.jpg copied successfully.\n",
      "Label file for left0619.jpg copied successfully.\n",
      "Label file for left0524.jpg copied successfully.\n",
      "Label file for left0457.jpg copied successfully.\n",
      "Label file for left0539.jpg copied successfully.\n",
      "Label file for left0600.jpg copied successfully.\n",
      "Label file for left0543.jpg copied successfully.\n",
      "Label file for left0505.jpg copied successfully.\n",
      "Label file for left0520.jpg copied successfully.\n",
      "Label file for left0606.jpg copied successfully.\n",
      "Label file for left0422.jpg copied successfully.\n",
      "Label file for left0570.jpg copied successfully.\n",
      "Label file for left0601.jpg copied successfully.\n",
      "Label file for left0591.jpg copied successfully.\n",
      "Label file for left0607.jpg copied successfully.\n",
      "Label file for left0585.jpg copied successfully.\n",
      "Label file for left0611.jpg copied successfully.\n",
      "Label file for left0029.jpg copied successfully.\n",
      "Label file for left0535.jpg copied successfully.\n",
      "Label file for left0429.jpg copied successfully.\n",
      "Label file for left0452.jpg copied successfully.\n",
      "Label file for left0427.jpg copied successfully.\n",
      "Label file for left0971.jpg copied successfully.\n",
      "Label file for left0586.jpg copied successfully.\n",
      "Label file for left0604.jpg copied successfully.\n",
      "Label file for left0526.jpg copied successfully.\n",
      "Label file for left0462.jpg copied successfully.\n",
      "Label file for left0500.jpg copied successfully.\n",
      "Label file for left1100.jpg copied successfully.\n",
      "Label file for left0522.jpg copied successfully.\n",
      "Label file for left0483.jpg copied successfully.\n",
      "Label file for left0041.jpg copied successfully.\n",
      "Label file for left0613.jpg copied successfully.\n",
      "Label file for left0579.jpg copied successfully.\n",
      "Label file for left0530.jpg copied successfully.\n",
      "Label file for left0455.jpg copied successfully.\n",
      "Label file for left0417.jpg copied successfully.\n",
      "Label file for left0460.jpg copied successfully.\n",
      "Label file for left0440.jpg copied successfully.\n",
      "Label file for left0441.jpg copied successfully.\n",
      "Label file for left0468.jpg copied successfully.\n",
      "Label file for left0511.jpg copied successfully.\n",
      "Label file for left0580.jpg copied successfully.\n",
      "Label file for left0458.jpg copied successfully.\n",
      "Label file for left0016.jpg copied successfully.\n",
      "Label file for left0414.jpg copied successfully.\n",
      "Label file for left0571.jpg copied successfully.\n",
      "Label file for left0531.jpg copied successfully.\n",
      "Label file for left0587.jpg copied successfully.\n",
      "Label file for left0043.jpg copied successfully.\n",
      "Label file for left0583.jpg copied successfully.\n",
      "Label file for left0562.jpg copied successfully.\n",
      "Label file for left0527.jpg copied successfully.\n",
      "Label file for left0020.jpg copied successfully.\n",
      "Label file for left0621.jpg copied successfully.\n",
      "Label file for left0983.jpg copied successfully.\n",
      "Label file for left0051.jpg copied successfully.\n",
      "Label file for left0559.jpg copied successfully.\n",
      "Label file for left0485.jpg copied successfully.\n",
      "Label file for left0519.jpg copied successfully.\n",
      "Label file for left0561.jpg copied successfully.\n",
      "Label file for left0466.jpg copied successfully.\n",
      "Label file for left0022.jpg copied successfully.\n",
      "Label file for left0504.jpg copied successfully.\n",
      "Label file for left0490.jpg copied successfully.\n",
      "Label file for left0518.jpg copied successfully.\n",
      "Label file for left0546.jpg copied successfully.\n",
      "Label file for left0465.jpg copied successfully.\n",
      "Label file for left0438.jpg copied successfully.\n",
      "Label file for left0472.jpg copied successfully.\n",
      "Label file for left0620.jpg copied successfully.\n",
      "Label file for left0021.jpg copied successfully.\n",
      "Label file for left0593.jpg copied successfully.\n",
      "Label file for left0534.jpg copied successfully.\n",
      "Label file for left0540.jpg copied successfully.\n",
      "Label file for left0459.jpg copied successfully.\n",
      "Label file for left0589.jpg copied successfully.\n",
      "Label file for left0553.jpg copied successfully.\n",
      "Label file for left0013.jpg copied successfully.\n",
      "Label file for left0549.jpg copied successfully.\n",
      "Label file for left0034.jpg copied successfully.\n",
      "Label file for left0937.jpg copied successfully.\n",
      "Label file for left1112.jpg copied successfully.\n",
      "Label file for left0991.jpg copied successfully.\n",
      "Label file for left0515.jpg copied successfully.\n",
      "Label file for left0420.jpg copied successfully.\n",
      "Label file for left0506.jpg copied successfully.\n",
      "Label file for left0554.jpg copied successfully.\n",
      "Label file for left0608.jpg copied successfully.\n",
      "Label file for left0594.jpg copied successfully.\n",
      "Label file for left0567.jpg copied successfully.\n",
      "Label file for left0590.jpg copied successfully.\n",
      "Label file for left0027.jpg copied successfully.\n",
      "Label file for left0626.jpg copied successfully.\n",
      "Label file for left0476.jpg copied successfully.\n",
      "Label file for left0471.jpg copied successfully.\n",
      "Label file for left0513.jpg copied successfully.\n",
      "Label file for left0568.jpg copied successfully.\n",
      "Label file for left0489.jpg copied successfully.\n",
      "Label file for left0423.jpg copied successfully.\n",
      "Label file for left0556.jpg copied successfully.\n",
      "Label file for left0514.jpg copied successfully.\n",
      "Label file for left0598.jpg copied successfully.\n",
      "Label file for left0984.jpg copied successfully.\n",
      "Label file for left0987.jpg copied successfully.\n",
      "Label file for left0046.jpg copied successfully.\n",
      "Label file for left0470.jpg copied successfully.\n",
      "Label file for left0019.jpg copied successfully.\n",
      "Label file for left0464.jpg copied successfully.\n",
      "Label file for left0577.jpg copied successfully.\n",
      "Label file for left0572.jpg copied successfully.\n",
      "Label file for left0474.jpg copied successfully.\n",
      "Label file for left0532.jpg copied successfully.\n",
      "Label file for left0477.jpg copied successfully.\n",
      "Label file for left0449.jpg copied successfully.\n",
      "Label file for left0545.jpg copied successfully.\n",
      "Label file for left0537.jpg copied successfully.\n",
      "Label file for left0517.jpg copied successfully.\n",
      "Label file for left0610.jpg copied successfully.\n",
      "Label file for left0560.jpg copied successfully.\n",
      "Label file for left0059.jpg copied successfully.\n",
      "Label file for left0592.jpg copied successfully.\n",
      "Label file for left0478.jpg copied successfully.\n",
      "Label file for left0493.jpg copied successfully.\n",
      "Label file for left0573.jpg copied successfully.\n",
      "Label file for left0416.jpg copied successfully.\n",
      "Label file for left0525.jpg copied successfully.\n",
      "Label file for left0448.jpg copied successfully.\n",
      "Label file for left0516.jpg copied successfully.\n",
      "Label file for left0491.jpg copied successfully.\n",
      "Label file for left0418.jpg copied successfully.\n",
      "Label file for left0463.jpg copied successfully.\n",
      "Label file for left0461.jpg copied successfully.\n",
      "Label file for left0821.jpg copied successfully.\n",
      "Label file for left0536.jpg copied successfully.\n",
      "Label file for left0497.jpg copied successfully.\n",
      "Label file for left0565.jpg copied successfully.\n",
      "Label file for left0622.jpg copied successfully.\n",
      "Label file for left0578.jpg copied successfully.\n",
      "Label file for left0969.jpg copied successfully.\n",
      "Label file for left0038.jpg copied successfully.\n",
      "Label file for left0557.jpg copied successfully.\n",
      "Label file for left0484.jpg copied successfully.\n",
      "Label file for left0419.jpg copied successfully.\n",
      "Label file for left0439.jpg copied successfully.\n"
     ]
    }
   ],
   "source": [
    "def copy_labels(image_directory, label_directory, output_directory, label_extension='.txt'):\n",
    "    \"\"\"\n",
    "    Copy label files to another directory using the image file names.\n",
    "    Args:\n",
    "        image_directory: Directory containing the images.\n",
    "        label_directory: Directory containing the label files.\n",
    "        output_directory: Directory to store the copied label files.\n",
    "        label_extension: Extension of the label files (default is '.txt').\n",
    "    \"\"\"\n",
    "    os.makedirs(output_directory, exist_ok=True)\n",
    "\n",
    "    image_filenames = [filename for filename in os.listdir(image_directory) if filename.endswith(('.jpg', '.jpeg', '.png'))]\n",
    "\n",
    "    for image_filename in image_filenames:\n",
    "        label_filename = os.path.splitext(image_filename)[0] + label_extension\n",
    "        source_label_path = os.path.join(label_directory, label_filename)\n",
    "        destination_label_path = os.path.join(output_directory, label_filename)\n",
    "\n",
    "        if os.path.exists(source_label_path):\n",
    "            shutil.copy(source_label_path, destination_label_path)\n",
    "            print(f\"Label file for {image_filename} copied successfully.\")\n",
    "\n",
    "# Example usage:\n",
    "train_image_directory_path = \"./dataset/train/images\"\n",
    "val_image_directory_path = \"./dataset/val/images\"\n",
    "test_image_directory_path = \"./dataset/test/images\"\n",
    "\n",
    "label_directory_path = \"./dataset/sim_training_data/labels\"\n",
    "\n",
    "output_train_path = \"./dataset/train/labels\"\n",
    "output_val_path = \"./dataset/val/labels\"\n",
    "\n",
    "copy_labels(train_image_directory_path, label_directory_path, output_train_path)\n",
    "copy_labels(val_image_directory_path, label_directory_path, output_val_path)\n"
   ]
  },
  {
   "cell_type": "code",
   "execution_count": null,
   "id": "bc4a337c-d150-4900-8f08-35b5d818d9c1",
   "metadata": {},
   "outputs": [
    {
     "name": "stdout",
     "output_type": "stream",
     "text": [
      "New https://pypi.org/project/ultralytics/8.1.6 available 😃 Update with 'pip install -U ultralytics'\n",
      "Ultralytics YOLOv8.0.230 🚀 Python-3.8.6 torch-2.1.2+cu121 CUDA:0 (Tesla V100-SXM2-32GB, 32501MiB)\n",
      "\u001b[34m\u001b[1mengine/trainer: \u001b[0mtask=detect, mode=train, model=yolov8s.pt, data=./data.yaml, epochs=25, time=None, patience=50, batch=16, imgsz=640, save=True, save_period=-1, cache=False, device=None, workers=8, project=None, name=train7, exist_ok=False, pretrained=True, optimizer=AdamW, verbose=True, seed=0, deterministic=True, single_cls=False, rect=False, cos_lr=False, close_mosaic=10, resume=False, amp=True, fraction=1.0, profile=False, freeze=None, overlap_mask=True, mask_ratio=4, dropout=0.0, val=True, split=val, save_json=False, save_hybrid=False, conf=None, iou=0.5, max_det=300, half=False, dnn=False, plots=True, source=None, vid_stride=1, stream_buffer=False, visualize=False, augment=False, agnostic_nms=False, classes=None, retina_masks=False, embed=None, show=False, save_frames=False, save_txt=False, save_conf=False, save_crop=False, show_labels=True, show_conf=True, show_boxes=True, line_width=None, format=torchscript, keras=False, optimize=False, int8=False, dynamic=False, simplify=False, opset=None, workspace=4, nms=False, lr0=0.005, lrf=0.01, momentum=0.937, weight_decay=0.0005, warmup_epochs=3.0, warmup_momentum=0.8, warmup_bias_lr=0.1, box=7.5, cls=0.5, dfl=1.5, pose=12.0, kobj=1.0, label_smoothing=0.0, nbs=64, hsv_h=0.015, hsv_s=0.7, hsv_v=0.4, degrees=0.0, translate=0.1, scale=0.5, shear=0.0, perspective=0.0, flipud=0.0, fliplr=0.5, mosaic=1.0, mixup=0.0, copy_paste=0.0, cfg=None, tracker=botsort.yaml, save_dir=runs/detect/train7\n",
      "Overriding model.yaml nc=80 with nc=3\n",
      "\n",
      "                   from  n    params  module                                       arguments                     \n",
      "  0                  -1  1       928  ultralytics.nn.modules.conv.Conv             [3, 32, 3, 2]                 \n",
      "  1                  -1  1     18560  ultralytics.nn.modules.conv.Conv             [32, 64, 3, 2]                \n",
      "  2                  -1  1     29056  ultralytics.nn.modules.block.C2f             [64, 64, 1, True]             \n",
      "  3                  -1  1     73984  ultralytics.nn.modules.conv.Conv             [64, 128, 3, 2]               \n",
      "  4                  -1  2    197632  ultralytics.nn.modules.block.C2f             [128, 128, 2, True]           \n",
      "  5                  -1  1    295424  ultralytics.nn.modules.conv.Conv             [128, 256, 3, 2]              \n",
      "  6                  -1  2    788480  ultralytics.nn.modules.block.C2f             [256, 256, 2, True]           \n",
      "  7                  -1  1   1180672  ultralytics.nn.modules.conv.Conv             [256, 512, 3, 2]              \n",
      "  8                  -1  1   1838080  ultralytics.nn.modules.block.C2f             [512, 512, 1, True]           \n",
      "  9                  -1  1    656896  ultralytics.nn.modules.block.SPPF            [512, 512, 5]                 \n",
      " 10                  -1  1         0  torch.nn.modules.upsampling.Upsample         [None, 2, 'nearest']          \n",
      " 11             [-1, 6]  1         0  ultralytics.nn.modules.conv.Concat           [1]                           \n",
      " 12                  -1  1    591360  ultralytics.nn.modules.block.C2f             [768, 256, 1]                 \n",
      " 13                  -1  1         0  torch.nn.modules.upsampling.Upsample         [None, 2, 'nearest']          \n",
      " 14             [-1, 4]  1         0  ultralytics.nn.modules.conv.Concat           [1]                           \n",
      " 15                  -1  1    148224  ultralytics.nn.modules.block.C2f             [384, 128, 1]                 \n",
      " 16                  -1  1    147712  ultralytics.nn.modules.conv.Conv             [128, 128, 3, 2]              \n",
      " 17            [-1, 12]  1         0  ultralytics.nn.modules.conv.Concat           [1]                           \n",
      " 18                  -1  1    493056  ultralytics.nn.modules.block.C2f             [384, 256, 1]                 \n",
      " 19                  -1  1    590336  ultralytics.nn.modules.conv.Conv             [256, 256, 3, 2]              \n",
      " 20             [-1, 9]  1         0  ultralytics.nn.modules.conv.Concat           [1]                           \n",
      " 21                  -1  1   1969152  ultralytics.nn.modules.block.C2f             [768, 512, 1]                 \n",
      " 22        [15, 18, 21]  1   2117209  ultralytics.nn.modules.head.Detect           [3, [128, 256, 512]]          \n",
      "Model summary: 225 layers, 11136761 parameters, 11136745 gradients, 28.7 GFLOPs\n",
      "\n",
      "Transferred 349/355 items from pretrained weights\n",
      "\u001b[34m\u001b[1mTensorBoard: \u001b[0mStart with 'tensorboard --logdir runs/detect/train7', view at http://localhost:6006/\n",
      "Freezing layer 'model.22.dfl.conv.weight'\n",
      "\u001b[34m\u001b[1mAMP: \u001b[0mrunning Automatic Mixed Precision (AMP) checks with YOLOv8n...\n",
      "\u001b[34m\u001b[1mAMP: \u001b[0mchecks passed ✅\n"
     ]
    },
    {
     "name": "stderr",
     "output_type": "stream",
     "text": [
      "\u001b[34m\u001b[1mtrain: \u001b[0mScanning /mnt/irisgpfs/users/lweber/traffic_ligth_detector/dataset/train/labels... 165 images, 25 backgrounds, 0 corrupt: 100%|██████████| 168/168 [00:00<00:00, 645.54it/s]"
     ]
    },
    {
     "name": "stdout",
     "output_type": "stream",
     "text": [
      "\u001b[34m\u001b[1mtrain: \u001b[0mNew cache created: /mnt/irisgpfs/users/lweber/traffic_ligth_detector/dataset/train/labels.cache\n"
     ]
    },
    {
     "name": "stderr",
     "output_type": "stream",
     "text": [
      "\n",
      "/mnt/irisgpfs/users/lweber/jupyter_env/lib/python3.8/site-packages/torch/utils/data/dataloader.py:557: UserWarning: This DataLoader will create 8 worker processes in total. Our suggested max number of worker in current system is 7, which is smaller than what this DataLoader is going to create. Please be aware that excessive worker creation might get DataLoader running slow or even freeze, lower the worker number to avoid potential slowness/freeze if necessary.\n",
      "  warnings.warn(_create_warning_msg(\n",
      "\u001b[34m\u001b[1mval: \u001b[0mScanning /mnt/irisgpfs/users/lweber/traffic_ligth_detector/dataset/val/labels... 56 images, 7 backgrounds, 0 corrupt: 100%|██████████| 56/56 [00:00<00:00, 549.48it/s]"
     ]
    },
    {
     "name": "stdout",
     "output_type": "stream",
     "text": [
      "\u001b[34m\u001b[1mval: \u001b[0mNew cache created: /mnt/irisgpfs/users/lweber/traffic_ligth_detector/dataset/val/labels.cache\n"
     ]
    },
    {
     "name": "stderr",
     "output_type": "stream",
     "text": [
      "\n",
      "/mnt/irisgpfs/users/lweber/jupyter_env/lib/python3.8/site-packages/torch/utils/data/dataloader.py:557: UserWarning: This DataLoader will create 14 worker processes in total. Our suggested max number of worker in current system is 7, which is smaller than what this DataLoader is going to create. Please be aware that excessive worker creation might get DataLoader running slow or even freeze, lower the worker number to avoid potential slowness/freeze if necessary.\n",
      "  warnings.warn(_create_warning_msg(\n"
     ]
    },
    {
     "name": "stdout",
     "output_type": "stream",
     "text": [
      "Plotting labels to runs/detect/train7/labels.jpg... \n",
      "\u001b[34m\u001b[1moptimizer:\u001b[0m AdamW(lr=0.005, momentum=0.937) with parameter groups 57 weight(decay=0.0), 64 weight(decay=0.0005), 63 bias(decay=0.0)\n",
      "25 epochs...\n",
      "\n",
      "      Epoch    GPU_mem   box_loss   cls_loss   dfl_loss  Instances       Size\n"
     ]
    },
    {
     "name": "stderr",
     "output_type": "stream",
     "text": [
      "       1/25      4.28G      1.482      6.476      1.121         30        640: 100%|██████████| 11/11 [00:01<00:00,  7.01it/s]\n",
      "                 Class     Images  Instances      Box(P          R      mAP50  mAP50-95): 100%|██████████| 2/2 [00:00<00:00,  2.78it/s]"
     ]
    },
    {
     "name": "stdout",
     "output_type": "stream",
     "text": [
      "                   all         56        141      0.121       0.11     0.0613      0.019\n"
     ]
    },
    {
     "name": "stderr",
     "output_type": "stream",
     "text": [
      "\n"
     ]
    },
    {
     "name": "stdout",
     "output_type": "stream",
     "text": [
      "\n",
      "      Epoch    GPU_mem   box_loss   cls_loss   dfl_loss  Instances       Size\n"
     ]
    },
    {
     "name": "stderr",
     "output_type": "stream",
     "text": [
      "       2/25      4.58G      1.267      2.687      1.098         46        640: 100%|██████████| 11/11 [00:01<00:00,  8.74it/s]\n",
      "                 Class     Images  Instances      Box(P          R      mAP50  mAP50-95): 100%|██████████| 2/2 [00:00<00:00,  3.10it/s]"
     ]
    },
    {
     "name": "stdout",
     "output_type": "stream",
     "text": [
      "                   all         56        141     0.0843      0.839      0.106      0.048\n"
     ]
    },
    {
     "name": "stderr",
     "output_type": "stream",
     "text": [
      "\n"
     ]
    },
    {
     "name": "stdout",
     "output_type": "stream",
     "text": [
      "\n",
      "      Epoch    GPU_mem   box_loss   cls_loss   dfl_loss  Instances       Size\n"
     ]
    },
    {
     "name": "stderr",
     "output_type": "stream",
     "text": [
      "       3/25      4.57G      1.177      1.626      1.041         30        640: 100%|██████████| 11/11 [00:01<00:00,  9.05it/s]\n",
      "                 Class     Images  Instances      Box(P          R      mAP50  mAP50-95): 100%|██████████| 2/2 [00:00<00:00,  2.88it/s]"
     ]
    },
    {
     "name": "stdout",
     "output_type": "stream",
     "text": [
      "                   all         56        141    0.00443     0.0729    0.00259    0.00119\n"
     ]
    },
    {
     "name": "stderr",
     "output_type": "stream",
     "text": [
      "\n"
     ]
    },
    {
     "name": "stdout",
     "output_type": "stream",
     "text": [
      "\n",
      "      Epoch    GPU_mem   box_loss   cls_loss   dfl_loss  Instances       Size\n"
     ]
    },
    {
     "name": "stderr",
     "output_type": "stream",
     "text": [
      "       4/25      4.59G      1.225      1.441      1.058         43        640: 100%|██████████| 11/11 [00:01<00:00,  9.25it/s]\n",
      "                 Class     Images  Instances      Box(P          R      mAP50  mAP50-95): 100%|██████████| 2/2 [00:00<00:00,  3.40it/s]"
     ]
    },
    {
     "name": "stdout",
     "output_type": "stream",
     "text": [
      "                   all         56        141      0.317      0.118     0.0254     0.0213\n"
     ]
    },
    {
     "name": "stderr",
     "output_type": "stream",
     "text": [
      "\n"
     ]
    },
    {
     "name": "stdout",
     "output_type": "stream",
     "text": [
      "\n",
      "      Epoch    GPU_mem   box_loss   cls_loss   dfl_loss  Instances       Size\n"
     ]
    },
    {
     "name": "stderr",
     "output_type": "stream",
     "text": [
      "       5/25      4.59G      1.107      1.143      1.046         32        640: 100%|██████████| 11/11 [00:01<00:00,  9.24it/s]\n",
      "                 Class     Images  Instances      Box(P          R      mAP50  mAP50-95): 100%|██████████| 2/2 [00:00<00:00,  2.40it/s]"
     ]
    },
    {
     "name": "stdout",
     "output_type": "stream",
     "text": [
      "                   all         56        141      0.317      0.118     0.0254     0.0213\n"
     ]
    },
    {
     "name": "stderr",
     "output_type": "stream",
     "text": [
      "\n"
     ]
    },
    {
     "name": "stdout",
     "output_type": "stream",
     "text": [
      "\n",
      "      Epoch    GPU_mem   box_loss   cls_loss   dfl_loss  Instances       Size\n"
     ]
    },
    {
     "name": "stderr",
     "output_type": "stream",
     "text": [
      "       6/25      4.58G      1.107     0.9987      1.059         32        640: 100%|██████████| 11/11 [00:01<00:00,  9.18it/s]\n",
      "                 Class     Images  Instances      Box(P          R      mAP50  mAP50-95): 100%|██████████| 2/2 [00:00<00:00,  5.02it/s]"
     ]
    },
    {
     "name": "stdout",
     "output_type": "stream",
     "text": [
      "                   all         56        141      0.333     0.0106   3.14e-05   1.04e-05\n"
     ]
    },
    {
     "name": "stderr",
     "output_type": "stream",
     "text": [
      "\n"
     ]
    },
    {
     "name": "stdout",
     "output_type": "stream",
     "text": [
      "\n",
      "      Epoch    GPU_mem   box_loss   cls_loss   dfl_loss  Instances       Size\n"
     ]
    },
    {
     "name": "stderr",
     "output_type": "stream",
     "text": [
      "       7/25      4.59G      1.033      0.984      1.025         32        640: 100%|██████████| 11/11 [00:01<00:00,  9.36it/s]\n",
      "                 Class     Images  Instances      Box(P          R      mAP50  mAP50-95): 100%|██████████| 2/2 [00:00<00:00,  4.52it/s]"
     ]
    },
    {
     "name": "stdout",
     "output_type": "stream",
     "text": [
      "                   all         56        141      0.164      0.161     0.0847     0.0537\n"
     ]
    },
    {
     "name": "stderr",
     "output_type": "stream",
     "text": [
      "\n"
     ]
    },
    {
     "name": "stdout",
     "output_type": "stream",
     "text": [
      "\n",
      "      Epoch    GPU_mem   box_loss   cls_loss   dfl_loss  Instances       Size\n"
     ]
    },
    {
     "name": "stderr",
     "output_type": "stream",
     "text": [
      "       8/25      4.59G      1.063     0.9351      1.041         36        640: 100%|██████████| 11/11 [00:01<00:00,  9.19it/s]\n",
      "                 Class     Images  Instances      Box(P          R      mAP50  mAP50-95): 100%|██████████| 2/2 [00:00<00:00,  7.35it/s]"
     ]
    },
    {
     "name": "stdout",
     "output_type": "stream",
     "text": [
      "                   all         56        141      0.547      0.703      0.544      0.378\n"
     ]
    },
    {
     "name": "stderr",
     "output_type": "stream",
     "text": [
      "\n"
     ]
    },
    {
     "name": "stdout",
     "output_type": "stream",
     "text": [
      "\n",
      "      Epoch    GPU_mem   box_loss   cls_loss   dfl_loss  Instances       Size\n"
     ]
    },
    {
     "name": "stderr",
     "output_type": "stream",
     "text": [
      "       9/25      4.58G      1.029     0.8453      1.022         38        640: 100%|██████████| 11/11 [00:01<00:00,  9.52it/s]\n",
      "                 Class     Images  Instances      Box(P          R      mAP50  mAP50-95): 100%|██████████| 2/2 [00:00<00:00,  7.06it/s]"
     ]
    },
    {
     "name": "stdout",
     "output_type": "stream",
     "text": [
      "                   all         56        141      0.698      0.933      0.696      0.515\n"
     ]
    },
    {
     "name": "stderr",
     "output_type": "stream",
     "text": [
      "\n"
     ]
    },
    {
     "name": "stdout",
     "output_type": "stream",
     "text": [
      "\n",
      "      Epoch    GPU_mem   box_loss   cls_loss   dfl_loss  Instances       Size\n"
     ]
    },
    {
     "name": "stderr",
     "output_type": "stream",
     "text": [
      "      10/25      4.58G      1.077     0.7951      1.047         23        640: 100%|██████████| 11/11 [00:01<00:00,  9.44it/s]\n",
      "                 Class     Images  Instances      Box(P          R      mAP50  mAP50-95): 100%|██████████| 2/2 [00:00<00:00,  7.29it/s]"
     ]
    },
    {
     "name": "stdout",
     "output_type": "stream",
     "text": [
      "                   all         56        141      0.726      0.922      0.725      0.546\n"
     ]
    },
    {
     "name": "stderr",
     "output_type": "stream",
     "text": [
      "\n"
     ]
    },
    {
     "name": "stdout",
     "output_type": "stream",
     "text": [
      "\n",
      "      Epoch    GPU_mem   box_loss   cls_loss   dfl_loss  Instances       Size\n"
     ]
    },
    {
     "name": "stderr",
     "output_type": "stream",
     "text": [
      "      11/25      4.58G     0.9831     0.7057      1.039         21        640: 100%|██████████| 11/11 [00:01<00:00,  9.55it/s]\n",
      "                 Class     Images  Instances      Box(P          R      mAP50  mAP50-95): 100%|██████████| 2/2 [00:00<00:00,  7.89it/s]"
     ]
    },
    {
     "name": "stdout",
     "output_type": "stream",
     "text": [
      "                   all         56        141      0.674      0.862      0.661      0.512\n"
     ]
    },
    {
     "name": "stderr",
     "output_type": "stream",
     "text": [
      "\n"
     ]
    },
    {
     "name": "stdout",
     "output_type": "stream",
     "text": [
      "\n",
      "      Epoch    GPU_mem   box_loss   cls_loss   dfl_loss  Instances       Size\n"
     ]
    },
    {
     "name": "stderr",
     "output_type": "stream",
     "text": [
      "      12/25      4.58G     0.9989     0.6661       1.02         54        640: 100%|██████████| 11/11 [00:01<00:00,  9.51it/s]\n",
      "                 Class     Images  Instances      Box(P          R      mAP50  mAP50-95): 100%|██████████| 2/2 [00:00<00:00,  7.95it/s]"
     ]
    },
    {
     "name": "stdout",
     "output_type": "stream",
     "text": [
      "                   all         56        141      0.848      0.937      0.911      0.609\n"
     ]
    },
    {
     "name": "stderr",
     "output_type": "stream",
     "text": [
      "\n"
     ]
    },
    {
     "name": "stdout",
     "output_type": "stream",
     "text": [
      "\n",
      "      Epoch    GPU_mem   box_loss   cls_loss   dfl_loss  Instances       Size\n"
     ]
    },
    {
     "name": "stderr",
     "output_type": "stream",
     "text": [
      "      13/25      4.58G       0.95     0.6599      0.986         39        640: 100%|██████████| 11/11 [00:01<00:00,  9.61it/s]\n",
      "                 Class     Images  Instances      Box(P          R      mAP50  mAP50-95): 100%|██████████| 2/2 [00:00<00:00,  7.77it/s]"
     ]
    },
    {
     "name": "stdout",
     "output_type": "stream",
     "text": [
      "                   all         56        141      0.901      0.952      0.949      0.693\n"
     ]
    },
    {
     "name": "stderr",
     "output_type": "stream",
     "text": [
      "\n"
     ]
    },
    {
     "name": "stdout",
     "output_type": "stream",
     "text": [
      "\n",
      "      Epoch    GPU_mem   box_loss   cls_loss   dfl_loss  Instances       Size\n"
     ]
    },
    {
     "name": "stderr",
     "output_type": "stream",
     "text": [
      "      14/25      4.59G     0.9894     0.6544      1.016         35        640: 100%|██████████| 11/11 [00:01<00:00,  9.59it/s]\n",
      "                 Class     Images  Instances      Box(P          R      mAP50  mAP50-95): 100%|██████████| 2/2 [00:00<00:00,  7.63it/s]"
     ]
    },
    {
     "name": "stdout",
     "output_type": "stream",
     "text": [
      "                   all         56        141      0.934      0.899      0.969      0.689\n"
     ]
    },
    {
     "name": "stderr",
     "output_type": "stream",
     "text": [
      "\n"
     ]
    },
    {
     "name": "stdout",
     "output_type": "stream",
     "text": [
      "\n",
      "      Epoch    GPU_mem   box_loss   cls_loss   dfl_loss  Instances       Size\n"
     ]
    },
    {
     "name": "stderr",
     "output_type": "stream",
     "text": [
      "      15/25      4.58G      1.001      0.609      1.032         25        640: 100%|██████████| 11/11 [00:01<00:00,  9.51it/s]\n",
      "                 Class     Images  Instances      Box(P          R      mAP50  mAP50-95): 100%|██████████| 2/2 [00:00<00:00,  7.82it/s]"
     ]
    },
    {
     "name": "stdout",
     "output_type": "stream",
     "text": [
      "                   all         56        141      0.967       0.96      0.975      0.705\n"
     ]
    },
    {
     "name": "stderr",
     "output_type": "stream",
     "text": [
      "\n"
     ]
    },
    {
     "name": "stdout",
     "output_type": "stream",
     "text": [
      "Closing dataloader mosaic\n"
     ]
    },
    {
     "name": "stderr",
     "output_type": "stream",
     "text": [
      "/mnt/irisgpfs/users/lweber/jupyter_env/lib/python3.8/site-packages/torch/utils/data/dataloader.py:557: UserWarning: This DataLoader will create 8 worker processes in total. Our suggested max number of worker in current system is 7, which is smaller than what this DataLoader is going to create. Please be aware that excessive worker creation might get DataLoader running slow or even freeze, lower the worker number to avoid potential slowness/freeze if necessary.\n",
      "  warnings.warn(_create_warning_msg(\n"
     ]
    },
    {
     "name": "stdout",
     "output_type": "stream",
     "text": [
      "\n",
      "      Epoch    GPU_mem   box_loss   cls_loss   dfl_loss  Instances       Size\n"
     ]
    },
    {
     "name": "stderr",
     "output_type": "stream",
     "text": [
      "      16/25      4.59G     0.9951     0.5981      1.038         18        640: 100%|██████████| 11/11 [00:01<00:00,  6.45it/s]\n",
      "                 Class     Images  Instances      Box(P          R      mAP50  mAP50-95): 100%|██████████| 2/2 [00:00<00:00,  7.90it/s]"
     ]
    },
    {
     "name": "stdout",
     "output_type": "stream",
     "text": [
      "                   all         56        141       0.96      0.962      0.965      0.711\n"
     ]
    },
    {
     "name": "stderr",
     "output_type": "stream",
     "text": [
      "\n"
     ]
    },
    {
     "name": "stdout",
     "output_type": "stream",
     "text": [
      "\n",
      "      Epoch    GPU_mem   box_loss   cls_loss   dfl_loss  Instances       Size\n"
     ]
    },
    {
     "name": "stderr",
     "output_type": "stream",
     "text": [
      "      17/25      4.57G     0.9566     0.5761     0.9868         14        640: 100%|██████████| 11/11 [00:01<00:00,  9.46it/s]\n",
      "                 Class     Images  Instances      Box(P          R      mAP50  mAP50-95): 100%|██████████| 2/2 [00:00<00:00,  7.84it/s]"
     ]
    },
    {
     "name": "stdout",
     "output_type": "stream",
     "text": [
      "                   all         56        141      0.948      0.879      0.915       0.68\n"
     ]
    },
    {
     "name": "stderr",
     "output_type": "stream",
     "text": [
      "\n"
     ]
    },
    {
     "name": "stdout",
     "output_type": "stream",
     "text": [
      "\n",
      "      Epoch    GPU_mem   box_loss   cls_loss   dfl_loss  Instances       Size\n"
     ]
    },
    {
     "name": "stderr",
     "output_type": "stream",
     "text": [
      "      18/25      4.57G     0.9804      0.596      1.015         19        640: 100%|██████████| 11/11 [00:01<00:00,  9.32it/s]\n",
      "                 Class     Images  Instances      Box(P          R      mAP50  mAP50-95): 100%|██████████| 2/2 [00:00<00:00,  7.52it/s]"
     ]
    },
    {
     "name": "stdout",
     "output_type": "stream",
     "text": [
      "                   all         56        141      0.955      0.957      0.981      0.731\n"
     ]
    },
    {
     "name": "stderr",
     "output_type": "stream",
     "text": [
      "\n"
     ]
    },
    {
     "name": "stdout",
     "output_type": "stream",
     "text": [
      "\n",
      "      Epoch    GPU_mem   box_loss   cls_loss   dfl_loss  Instances       Size\n"
     ]
    },
    {
     "name": "stderr",
     "output_type": "stream",
     "text": [
      "      19/25      4.58G     0.9684     0.6033      1.049         11        640: 100%|██████████| 11/11 [00:01<00:00,  9.17it/s]\n",
      "                 Class     Images  Instances      Box(P          R      mAP50  mAP50-95): 100%|██████████| 2/2 [00:00<00:00,  7.42it/s]"
     ]
    },
    {
     "name": "stdout",
     "output_type": "stream",
     "text": [
      "                   all         56        141      0.978      0.993      0.989      0.753\n"
     ]
    },
    {
     "name": "stderr",
     "output_type": "stream",
     "text": [
      "\n"
     ]
    },
    {
     "name": "stdout",
     "output_type": "stream",
     "text": [
      "\n",
      "      Epoch    GPU_mem   box_loss   cls_loss   dfl_loss  Instances       Size\n"
     ]
    },
    {
     "name": "stderr",
     "output_type": "stream",
     "text": [
      "      20/25      4.57G     0.9758     0.5799      1.056         18        640: 100%|██████████| 11/11 [00:01<00:00,  9.09it/s]\n",
      "                 Class     Images  Instances      Box(P          R      mAP50  mAP50-95): 100%|██████████| 2/2 [00:00<00:00,  7.73it/s]"
     ]
    },
    {
     "name": "stdout",
     "output_type": "stream",
     "text": [
      "                   all         56        141      0.948      0.993      0.982      0.759\n"
     ]
    },
    {
     "name": "stderr",
     "output_type": "stream",
     "text": [
      "\n"
     ]
    },
    {
     "name": "stdout",
     "output_type": "stream",
     "text": [
      "\n",
      "      Epoch    GPU_mem   box_loss   cls_loss   dfl_loss  Instances       Size\n"
     ]
    },
    {
     "name": "stderr",
     "output_type": "stream",
     "text": [
      "      21/25      4.58G     0.9141     0.5441      1.044         18        640: 100%|██████████| 11/11 [00:01<00:00,  9.39it/s]\n",
      "                 Class     Images  Instances      Box(P          R      mAP50  mAP50-95): 100%|██████████| 2/2 [00:00<00:00,  7.76it/s]"
     ]
    },
    {
     "name": "stdout",
     "output_type": "stream",
     "text": [
      "                   all         56        141      0.964      0.979       0.99      0.749\n"
     ]
    },
    {
     "name": "stderr",
     "output_type": "stream",
     "text": [
      "\n"
     ]
    },
    {
     "name": "stdout",
     "output_type": "stream",
     "text": [
      "\n",
      "      Epoch    GPU_mem   box_loss   cls_loss   dfl_loss  Instances       Size\n"
     ]
    },
    {
     "name": "stderr",
     "output_type": "stream",
     "text": [
      "      22/25       4.6G     0.9251     0.5631      1.054         20        640: 100%|██████████| 11/11 [00:01<00:00,  9.15it/s]\n",
      "                 Class     Images  Instances      Box(P          R      mAP50  mAP50-95): 100%|██████████| 2/2 [00:00<00:00,  7.87it/s]"
     ]
    },
    {
     "name": "stdout",
     "output_type": "stream",
     "text": [
      "                   all         56        141      0.981      0.989      0.992      0.757\n"
     ]
    },
    {
     "name": "stderr",
     "output_type": "stream",
     "text": [
      "\n"
     ]
    },
    {
     "name": "stdout",
     "output_type": "stream",
     "text": [
      "\n",
      "      Epoch    GPU_mem   box_loss   cls_loss   dfl_loss  Instances       Size\n"
     ]
    },
    {
     "name": "stderr",
     "output_type": "stream",
     "text": [
      "      23/25      4.57G     0.9224     0.5137      1.024         23        640: 100%|██████████| 11/11 [00:01<00:00,  9.40it/s]\n",
      "                 Class     Images  Instances      Box(P          R      mAP50  mAP50-95): 100%|██████████| 2/2 [00:00<00:00,  8.09it/s]"
     ]
    },
    {
     "name": "stdout",
     "output_type": "stream",
     "text": [
      "                   all         56        141      0.982      0.993      0.992      0.772\n"
     ]
    },
    {
     "name": "stderr",
     "output_type": "stream",
     "text": [
      "\n"
     ]
    },
    {
     "name": "stdout",
     "output_type": "stream",
     "text": [
      "\n",
      "      Epoch    GPU_mem   box_loss   cls_loss   dfl_loss  Instances       Size\n"
     ]
    },
    {
     "name": "stderr",
     "output_type": "stream",
     "text": [
      "      24/25      4.59G     0.9084     0.5175      1.001         14        640: 100%|██████████| 11/11 [00:01<00:00,  9.43it/s]\n",
      "                 Class     Images  Instances      Box(P          R      mAP50  mAP50-95): 100%|██████████| 2/2 [00:00<00:00,  7.05it/s]"
     ]
    },
    {
     "name": "stdout",
     "output_type": "stream",
     "text": [
      "                   all         56        141      0.989       0.99      0.992      0.775\n"
     ]
    },
    {
     "name": "stderr",
     "output_type": "stream",
     "text": [
      "\n"
     ]
    },
    {
     "name": "stdout",
     "output_type": "stream",
     "text": [
      "\n",
      "      Epoch    GPU_mem   box_loss   cls_loss   dfl_loss  Instances       Size\n"
     ]
    },
    {
     "name": "stderr",
     "output_type": "stream",
     "text": [
      "      25/25      4.58G     0.9283     0.4901      1.039         23        640: 100%|██████████| 11/11 [00:01<00:00,  9.78it/s]\n",
      "                 Class     Images  Instances      Box(P          R      mAP50  mAP50-95): 100%|██████████| 2/2 [00:00<00:00,  7.95it/s]"
     ]
    },
    {
     "name": "stdout",
     "output_type": "stream",
     "text": [
      "                   all         56        141       0.99      0.993      0.992      0.777\n"
     ]
    },
    {
     "name": "stderr",
     "output_type": "stream",
     "text": [
      "\n"
     ]
    },
    {
     "name": "stdout",
     "output_type": "stream",
     "text": [
      "\n",
      "25 epochs completed in 0.047 hours.\n",
      "Optimizer stripped from runs/detect/train7/weights/last.pt, 22.5MB\n",
      "Optimizer stripped from runs/detect/train7/weights/best.pt, 22.5MB\n",
      "\n",
      "Validating runs/detect/train7/weights/best.pt...\n",
      "Ultralytics YOLOv8.0.230 🚀 Python-3.8.6 torch-2.1.2+cu121 CUDA:0 (Tesla V100-SXM2-32GB, 32501MiB)\n",
      "Model summary (fused): 168 layers, 11126745 parameters, 0 gradients, 28.4 GFLOPs\n"
     ]
    },
    {
     "name": "stderr",
     "output_type": "stream",
     "text": [
      "                 Class     Images  Instances      Box(P          R      mAP50  mAP50-95): 100%|██████████| 2/2 [00:00<00:00,  6.02it/s]\n"
     ]
    },
    {
     "name": "stdout",
     "output_type": "stream",
     "text": [
      "                   all         56        141       0.99      0.993      0.992      0.777\n",
      "                 Green         56         32      0.997          1      0.995      0.795\n",
      "                Yellow         56         15      0.983          1      0.995      0.833\n",
      "                   Red         56         94      0.989      0.979      0.986      0.704\n",
      "Speed: 0.1ms preprocess, 1.5ms inference, 0.0ms loss, 0.5ms postprocess per image\n",
      "Results saved to \u001b[1mruns/detect/train7\u001b[0m\n",
      "Ultralytics YOLOv8.0.230 🚀 Python-3.8.6 torch-2.1.2+cu121 CUDA:0 (Tesla V100-SXM2-32GB, 32501MiB)\n",
      "Model summary (fused): 168 layers, 11126745 parameters, 0 gradients, 28.4 GFLOPs\n"
     ]
    },
    {
     "name": "stderr",
     "output_type": "stream",
     "text": [
      "\u001b[34m\u001b[1mval: \u001b[0mScanning /mnt/irisgpfs/users/lweber/traffic_ligth_detector/dataset/val/labels.cache... 56 images, 7 backgrounds, 0 corrupt: 100%|██████████| 56/56 [00:00<?, ?it/s]\n",
      "/mnt/irisgpfs/users/lweber/jupyter_env/lib/python3.8/site-packages/torch/utils/data/dataloader.py:557: UserWarning: This DataLoader will create 8 worker processes in total. Our suggested max number of worker in current system is 7, which is smaller than what this DataLoader is going to create. Please be aware that excessive worker creation might get DataLoader running slow or even freeze, lower the worker number to avoid potential slowness/freeze if necessary.\n",
      "  warnings.warn(_create_warning_msg(\n",
      "                 Class     Images  Instances      Box(P          R      mAP50  mAP50-95): 100%|██████████| 4/4 [00:01<00:00,  3.79it/s]\n"
     ]
    },
    {
     "name": "stdout",
     "output_type": "stream",
     "text": [
      "                   all         56        141       0.99      0.993      0.992       0.78\n",
      "                 Green         56         32      0.997          1      0.995      0.798\n",
      "                Yellow         56         15      0.983          1      0.995      0.833\n",
      "                   Red         56         94      0.989      0.979      0.986      0.709\n"
     ]
    }
   ],
   "source": [
    "#Train the model using YOLOv8\n",
    "model = YOLO(\"yolov8s.pt\")\n",
    "model.train(data=\"./data.yaml\", epochs=25, lr0= 0.005, iou=0.5, optimizer='AdamW')\n",
    "metrics = model.val()"
   ]
  },
  {
   "cell_type": "code",
   "execution_count": null,
   "id": "134d24b1-cf7b-4b2a-9e15-2d994914bce2",
   "metadata": {},
   "outputs": [],
   "source": []
  }
 ],
 "metadata": {
  "kernelspec": {
   "display_name": "Python 3 (ipykernel)",
   "language": "python",
   "name": "python3"
  },
  "language_info": {
   "codemirror_mode": {
    "name": "ipython",
    "version": 3
   },
   "file_extension": ".py",
   "mimetype": "text/x-python",
   "name": "python",
   "nbconvert_exporter": "python",
   "pygments_lexer": "ipython3",
   "version": "3.8.6"
  }
 },
 "nbformat": 4,
 "nbformat_minor": 5
}
